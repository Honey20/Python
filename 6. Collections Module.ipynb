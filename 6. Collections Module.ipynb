{
 "cells": [
  {
   "cell_type": "markdown",
   "metadata": {},
   "source": [
    "# <center>Collections Module</center>\n",
    "<img src=\"collections.png\" width=\"600\" height=\"250\">"
   ]
  },
  {
   "cell_type": "markdown",
   "metadata": {},
   "source": [
    "# <center>deque</center>\n",
    "A list-like data structure with fast appends and pops on either end\n",
    "\n",
    "- Deques are generalization of stacks and queues (the name is pronounced \"deck\" and is short for \"double-ended\n",
    "queue\").\n",
    "- Deques support thread-safe, memory efficient appends and from either side of the deque with approximately the same O(1) performance in either direction.\n",
    "- Though list objects support similar operations, they are optimized for fast fixed-length operations and incur O(n) memory movements for pop(O) and insert(O, v) operations which change both the size and position of the underlying data representation.\n",
    "- Indexed access is O(1) at both ends but slows to O(n) in the middle. For fast random access, use lists instead.\n",
    "\n",
    "https://docs.python.org/3/library/collections.html#collections.deque"
   ]
  },
  {
   "cell_type": "code",
   "execution_count": 1,
   "metadata": {},
   "outputs": [
    {
     "name": "stdout",
     "output_type": "stream",
     "text": [
      "A has been added to the queue\n",
      "new list is ['A']\n",
      "\n",
      "B has been added to the queue\n",
      "new list is ['A', 'B']\n",
      "\n",
      "C has been added to the queue\n",
      "new list is ['A', 'B', 'C']\n",
      "\n",
      "first person has been serviced\n",
      "new list is ['B', 'C']\n",
      "\n",
      "VIP : vip is added to the queue\n",
      "new list is ['VIP', 'B', 'C']\n",
      "\n"
     ]
    }
   ],
   "source": [
    "# Queue using list\n",
    "\n",
    "lst= []\n",
    "def add_person(name): \n",
    "    lst.append(name)  \n",
    "    print(f\"{name} has been added to the queue\")\n",
    "    print(f\"new list is {lst}\\n\")\n",
    "    \n",
    "def service_person(): \n",
    "    lst.pop(0)  \n",
    "    print(\"first person has been serviced\")\n",
    "    print(f\"new list is {lst}\\n\")\n",
    "    \n",
    "def add_vip(name):\n",
    "    lst.insert(0, name)  \n",
    "    print(f\"{name} : vip is added to the queue\")    \n",
    "    print(f\"new list is {lst}\\n\")\n",
    "    \n",
    "add_person(\"A\")\n",
    "add_person(\"B\")\n",
    "add_person(\"C\")\n",
    "service_person()\n",
    "add_vip(\"VIP\")"
   ]
  },
  {
   "cell_type": "markdown",
   "metadata": {},
   "source": [
    "https://stackoverflow.com/questions/14668769/does-python-have-built-in-linkedlist-data-structure#:~:text=Yes%2C%20Python's%20collections%20module%20provides,list%20of%20BLOCK%20s%20internally.&text=See%2C%20for%20example%2C%20the%20Python,abstract%20data%20type%20(ADT).&text=deque%20is%20implemented%20using%20a%20linked%20list.\n",
    "\n",
    "It is also possible to use a list as a queue, where the first element added is the first element retrieved (“first-in, first-out”); however, lists are not efficient for this purpose. While appends and pops from the end of list are fast, doing inserts or pops from the beginning of a list is slow (because all of the other elements have to be shifted by one).\n",
    "To implement a queue, use collections.deque which was designed to have fast appends and pops from both ends."
   ]
  },
  {
   "cell_type": "code",
   "execution_count": 2,
   "metadata": {},
   "outputs": [
    {
     "name": "stdout",
     "output_type": "stream",
     "text": [
      "A has been added to the queue\n",
      "new list is deque(['A'])\n",
      "\n",
      "B has been added to the queue\n",
      "new list is deque(['A', 'B'])\n",
      "\n",
      "C has been added to the queue\n",
      "new list is deque(['A', 'B', 'C'])\n",
      "\n",
      "first person has been serviced\n",
      "new list is deque(['B', 'C'])\n",
      "\n",
      "VIP has been added to the queue\n",
      "new list is deque(['VIP', 'B', 'C'])\n"
     ]
    }
   ],
   "source": [
    "from collections import deque\n",
    "\n",
    "lst = deque()\n",
    "def add_person(name): \n",
    "    lst.append(name)  \n",
    "    print(f\"{name} has been added to the queue\")\n",
    "    print(f\"new list is {lst}\\n\")\n",
    "    \n",
    "def service_person(): \n",
    "    lst.popleft()  \n",
    "    print(\"first person has been serviced\")\n",
    "    print(f\"new list is {lst}\\n\")\n",
    "    \n",
    "def add_vip(name):\n",
    "    lst.appendleft(name)  \n",
    "    print(f\"{name} has been added to the queue\")\n",
    "    print(f\"new list is {lst}\")\n",
    "\n",
    "add_person(\"A\")\n",
    "add_person(\"B\")\n",
    "add_person(\"C\")\n",
    "service_person()\n",
    "add_vip(\"VIP\")"
   ]
  },
  {
   "cell_type": "markdown",
   "metadata": {},
   "source": [
    "# <center>Default dict</center>\n",
    "Usually, a Python dictionary throws a KeyError if you try to get an item with a key that is not currently in the dictionary. \n",
    "\n",
    "The defaultdict in contrast will simply create any items that you try to access (provided of course they do not exist yet). \n",
    "\n",
    "To create such a \"default\" item, it calls the function object that you pass to the constructsor (more precisely, it's an arbitrary \"callable\" object, which includes function and type objects). \n",
    "\n",
    "defaultdict means that if a key is not found in the dictionary, then instead of a KeyError being thrown, a new entry is created. The type of this new entry is given by the argument of defaultdict.\n",
    "\n",
    "The functionality of both dictionaries and defualtdict are almost same except for the fact that defualtdict never raises a KeyError. It provides a default value for the key that does not exists.\n",
    "\n",
    "**Syntax:** defaultdict(default_factory)\n",
    "\n",
    "default_factory is a function returning the default value for the dictionary defined. If this argument is absent then the dictionary raises a KeyError."
   ]
  },
  {
   "cell_type": "code",
   "execution_count": 3,
   "metadata": {},
   "outputs": [
    {
     "name": "stdout",
     "output_type": "stream",
     "text": [
      "hi\n"
     ]
    },
    {
     "ename": "KeyError",
     "evalue": "3",
     "output_type": "error",
     "traceback": [
      "\u001b[0;31m---------------------------------------------------------------------------\u001b[0m",
      "\u001b[0;31mKeyError\u001b[0m                                  Traceback (most recent call last)",
      "\u001b[0;32m<ipython-input-3-b7bc426e108d>\u001b[0m in \u001b[0;36m<module>\u001b[0;34m\u001b[0m\n\u001b[1;32m      1\u001b[0m \u001b[0md\u001b[0m \u001b[0;34m=\u001b[0m \u001b[0;34m{\u001b[0m\u001b[0;36m1\u001b[0m\u001b[0;34m:\u001b[0m\u001b[0;34m\"hi\"\u001b[0m\u001b[0;34m,\u001b[0m \u001b[0;36m2\u001b[0m\u001b[0;34m:\u001b[0m\u001b[0;34m\"bye\"\u001b[0m\u001b[0;34m}\u001b[0m\u001b[0;34m\u001b[0m\u001b[0;34m\u001b[0m\u001b[0m\n\u001b[1;32m      2\u001b[0m \u001b[0mprint\u001b[0m\u001b[0;34m(\u001b[0m\u001b[0md\u001b[0m\u001b[0;34m[\u001b[0m\u001b[0;36m1\u001b[0m\u001b[0;34m]\u001b[0m\u001b[0;34m)\u001b[0m\u001b[0;34m\u001b[0m\u001b[0;34m\u001b[0m\u001b[0m\n\u001b[0;32m----> 3\u001b[0;31m \u001b[0mprint\u001b[0m\u001b[0;34m(\u001b[0m\u001b[0md\u001b[0m\u001b[0;34m[\u001b[0m\u001b[0;36m3\u001b[0m\u001b[0;34m]\u001b[0m\u001b[0;34m)\u001b[0m\u001b[0;34m\u001b[0m\u001b[0;34m\u001b[0m\u001b[0m\n\u001b[0m",
      "\u001b[0;31mKeyError\u001b[0m: 3"
     ]
    }
   ],
   "source": [
    "d = {1:\"hi\", 2:\"bye\"}\n",
    "print(d[1]) \n",
    "print(d[3]) "
   ]
  },
  {
   "cell_type": "code",
   "execution_count": 4,
   "metadata": {},
   "outputs": [],
   "source": [
    "from collections import defaultdict"
   ]
  },
  {
   "cell_type": "code",
   "execution_count": 5,
   "metadata": {},
   "outputs": [
    {
     "name": "stdout",
     "output_type": "stream",
     "text": [
      "1\n",
      "2\n",
      "Not Present\n"
     ]
    }
   ],
   "source": [
    "def def_value(): \n",
    "    return \"Not Present\"\n",
    "      \n",
    "d = defaultdict(def_value) \n",
    "d[\"a\"] = 1\n",
    "d[\"b\"] = 2\n",
    "  \n",
    "print(d[\"a\"]) \n",
    "print(d[\"b\"]) \n",
    "print(d[\"c\"]) "
   ]
  },
  {
   "cell_type": "code",
   "execution_count": 6,
   "metadata": {},
   "outputs": [
    {
     "name": "stdout",
     "output_type": "stream",
     "text": [
      "0\n"
     ]
    },
    {
     "data": {
      "text/plain": [
       "defaultdict(int, {1: 'hi', 2: 'bye', 3: 0})"
      ]
     },
     "execution_count": 6,
     "metadata": {},
     "output_type": "execute_result"
    }
   ],
   "source": [
    "# Default items are created using int(), which will return the integer object 0. \n",
    "d = {1:\"hi\", 2:\"bye\"}\n",
    "\n",
    "new = defaultdict(int, d)\n",
    "print(new[3]) \n",
    "new"
   ]
  },
  {
   "cell_type": "code",
   "execution_count": 7,
   "metadata": {},
   "outputs": [
    {
     "name": "stdout",
     "output_type": "stream",
     "text": [
      "[]\n"
     ]
    },
    {
     "data": {
      "text/plain": [
       "defaultdict(list, {1: [10, 9, 8], 2: [12, 10, 15], 3: []})"
      ]
     },
     "execution_count": 7,
     "metadata": {},
     "output_type": "execute_result"
    }
   ],
   "source": [
    "# Default items are created using list(), which returns a new empty list object.\n",
    "d = {1: [10, 9, 8], 2:[12, 10, 15]}\n",
    "\n",
    "new = defaultdict(list, d)\n",
    "print(new[3]) \n",
    "new"
   ]
  },
  {
   "cell_type": "code",
   "execution_count": 8,
   "metadata": {},
   "outputs": [
    {
     "name": "stdout",
     "output_type": "stream",
     "text": [
      "Not Present\n"
     ]
    },
    {
     "data": {
      "text/plain": [
       "defaultdict(<function __main__.my_fun()>,\n",
       "            {1: 'hi', 2: 'bye', 3: 'Not Present'})"
      ]
     },
     "execution_count": 8,
     "metadata": {},
     "output_type": "execute_result"
    }
   ],
   "source": [
    "def my_fun():\n",
    "    return(\"Not Present\")\n",
    "\n",
    "d = {1:\"hi\", 2:\"bye\"}\n",
    "\n",
    "new = defaultdict(my_fun, d)\n",
    "print(new[3]) \n",
    "new"
   ]
  },
  {
   "cell_type": "code",
   "execution_count": 9,
   "metadata": {},
   "outputs": [],
   "source": [
    "# Example 1\n",
    "# Input: s = 'mississippi'\n",
    "# Output: {'m':1, 'i':4, 's':4, 'p':2}"
   ]
  },
  {
   "cell_type": "code",
   "execution_count": 10,
   "metadata": {},
   "outputs": [
    {
     "name": "stdout",
     "output_type": "stream",
     "text": [
      "{'m': 1, 'i': 4, 's': 4, 'p': 2}\n"
     ]
    }
   ],
   "source": [
    "# Using dictionary\n",
    "s = 'mississippi'\n",
    "r = {}\n",
    "def count(s):\n",
    "    for i in s:\n",
    "        if i not in r:                        # Can also use r.keys() insted of r\n",
    "            r[i] = 1\n",
    "        else:\n",
    "            r[i] += 1\n",
    "            \n",
    "count(s)\n",
    "print(r)"
   ]
  },
  {
   "cell_type": "code",
   "execution_count": 11,
   "metadata": {},
   "outputs": [
    {
     "name": "stdout",
     "output_type": "stream",
     "text": [
      "defaultdict(<class 'int'>, {'m': 1, 'i': 4, 's': 4, 'p': 2})\n"
     ]
    }
   ],
   "source": [
    "# Using defaultdict\n",
    "s = 'mississippi'\n",
    "r = defaultdict(int)\n",
    "def count(s):\n",
    "    for i in s:\n",
    "        r[i] += 1\n",
    "            \n",
    "count(s)\n",
    "print(r)"
   ]
  },
  {
   "cell_type": "code",
   "execution_count": 12,
   "metadata": {},
   "outputs": [],
   "source": [
    "# Example 2\n",
    "# Input: s = [('red',1), ('blue',2), ('red',3), ('blue',5), ('yellow',1)]\n",
    "# Output: {'red': [1, 3], 'blue': [2, 5], 'yellow': [1]}"
   ]
  },
  {
   "cell_type": "code",
   "execution_count": 13,
   "metadata": {},
   "outputs": [
    {
     "name": "stdout",
     "output_type": "stream",
     "text": [
      "defaultdict(<class 'list'>, {'red': [1, 3], 'blue': [2, 5], 'yellow': [1]})\n"
     ]
    }
   ],
   "source": [
    "# Using defaultdict\n",
    "s = [('red',1), ('blue',2), ('red',3), ('blue',5), ('yellow',1)]\n",
    "\n",
    "a = defaultdict(list)\n",
    "for key, value in s:\n",
    "    x = a[key]\n",
    "    x.append(value)\n",
    "#     a[key].append(value)\n",
    "\n",
    "print(a)"
   ]
  },
  {
   "cell_type": "markdown",
   "metadata": {},
   "source": [
    "# <center>Counter</center>\n",
    "\n",
    "class collections.Counter(iterabIe-or-mapping)\n",
    "\n",
    "- A Counter is a dict sublass for counting hashable objects. It is an unordered collection where elements are stored as dictionary keys and their counts are stored as dictionary values.\n",
    "- Counter objects have a dictionary interface except that they return a zero count for missing items instead of raising a KeyError"
   ]
  },
  {
   "cell_type": "code",
   "execution_count": 14,
   "metadata": {},
   "outputs": [],
   "source": [
    "from collections import Counter"
   ]
  },
  {
   "cell_type": "code",
   "execution_count": 15,
   "metadata": {},
   "outputs": [
    {
     "name": "stdout",
     "output_type": "stream",
     "text": [
      "Counter({2: 4, 3: 3, 1: 2, 4: 2})\n"
     ]
    }
   ],
   "source": [
    "# Converting list to counter\n",
    "l = [1, 2, 1, 3, 4, 2, 2, 3, 4, 2, 3]\n",
    "c = Counter(l)\n",
    "print(c)"
   ]
  },
  {
   "cell_type": "code",
   "execution_count": 16,
   "metadata": {},
   "outputs": [
    {
     "data": {
      "text/plain": [
       "(3, 4)"
      ]
     },
     "execution_count": 16,
     "metadata": {},
     "output_type": "execute_result"
    }
   ],
   "source": [
    "c[3], c[2]"
   ]
  },
  {
   "cell_type": "code",
   "execution_count": 17,
   "metadata": {},
   "outputs": [
    {
     "data": {
      "text/plain": [
       "0"
      ]
     },
     "execution_count": 17,
     "metadata": {},
     "output_type": "execute_result"
    }
   ],
   "source": [
    "# Converting dictionary to counter\n",
    "d = {2: 4, 3: 3, 1: 2, 4: 2}\n",
    "c = Counter(d)\n",
    "c[5]"
   ]
  },
  {
   "cell_type": "code",
   "execution_count": 18,
   "metadata": {},
   "outputs": [
    {
     "data": {
      "text/plain": [
       "0"
      ]
     },
     "execution_count": 18,
     "metadata": {},
     "output_type": "execute_result"
    }
   ],
   "source": [
    "d = {2: [1,2,3], 3: [1,3,3], 1: [1,5,7], 4: [2,5,6]}\n",
    "c = Counter(d)\n",
    "c[6]"
   ]
  },
  {
   "cell_type": "code",
   "execution_count": 19,
   "metadata": {},
   "outputs": [
    {
     "data": {
      "text/plain": [
       "Counter({2: [1, 2, 3], 3: [1, 3, 3], 1: [1, 5, 7]})"
      ]
     },
     "execution_count": 19,
     "metadata": {},
     "output_type": "execute_result"
    }
   ],
   "source": [
    "# Deleting key, same as dictionary\n",
    "del c[4]\n",
    "c"
   ]
  },
  {
   "cell_type": "markdown",
   "metadata": {},
   "source": [
    "**Counter Methods:** Counter support 3 additional methods apart from available dictionary methods."
   ]
  },
  {
   "cell_type": "code",
   "execution_count": 20,
   "metadata": {},
   "outputs": [
    {
     "data": {
      "text/plain": [
       "<itertools.chain at 0x7f14dc157460>"
      ]
     },
     "execution_count": 20,
     "metadata": {},
     "output_type": "execute_result"
    }
   ],
   "source": [
    "# elements(): Returns an iterator over elements repeating each as many times as its count. Elements are returned \n",
    "# in arbitrary order. If an element's count is less than one, elements() will ignore it.\n",
    "\n",
    "c = Counter(a=4, b=2, d=-5, g =7)\n",
    "c.elements()\n",
    "# list(c.elements())"
   ]
  },
  {
   "cell_type": "code",
   "execution_count": 21,
   "metadata": {},
   "outputs": [
    {
     "name": "stdout",
     "output_type": "stream",
     "text": [
      "Counter({'i': 7, 's': 4, 'p': 4, 'm': 2, 'r': 2, 'v': 1, 'e': 1})\n"
     ]
    },
    {
     "data": {
      "text/plain": [
       "[('i', 7), ('s', 4), ('p', 4), ('m', 2), ('r', 2), ('v', 1), ('e', 1)]"
      ]
     },
     "execution_count": 21,
     "metadata": {},
     "output_type": "execute_result"
    }
   ],
   "source": [
    "# most_common(n): Returns a list of the n most commmon elements and their counts from the most common to the \n",
    "# least. If n is omitted or None, most_common() returns all elernents in the counter. \n",
    "# Elements with equal counts are ordered arbitrarily.\n",
    "\n",
    "c = Counter('mississippiippimriver')\n",
    "print(c)\n",
    "c.most_common()       # give all count \n",
    "# c.most_common(4)      # top 4"
   ]
  },
  {
   "cell_type": "code",
   "execution_count": 22,
   "metadata": {},
   "outputs": [
    {
     "data": {
      "text/plain": [
       "[('i', 7), ('s', 4), ('p', 4), ('m', 2), ('r', 2), ('v', 1), ('e', 1)]"
      ]
     },
     "execution_count": 22,
     "metadata": {},
     "output_type": "execute_result"
    }
   ],
   "source": [
    "# Same problem using dictionary\n",
    "s = 'mississippiippimriver'\n",
    "d = {}\n",
    "for char in s:\n",
    "    if char not in d:                   # This case is omitted for defaultdict\n",
    "        d[char] = 1\n",
    "    else:\n",
    "        d[char] += 1\n",
    "            \n",
    "new_d = sorted(d.items(), key=lambda x: x[1], reverse= True)\n",
    "new_d\n",
    "\n",
    "# Can you try this using defaultdict?"
   ]
  },
  {
   "cell_type": "code",
   "execution_count": 23,
   "metadata": {},
   "outputs": [
    {
     "data": {
      "text/plain": [
       "Counter({2: -1, 3: 1, 1: 1, 4: 2})"
      ]
     },
     "execution_count": 23,
     "metadata": {},
     "output_type": "execute_result"
    }
   ],
   "source": [
    "# subtract([iterable-or-mapping]): Elements are subtracted from an iterable or from another mapping (or \n",
    "# counter). Like dict.update() but subtracts instead of replacing them. Both inputs and outputs may be zero \n",
    "# or negative\n",
    "\n",
    "c = Counter({2: 4, 3: 3, 1: 2, 4: 2})\n",
    "d = Counter({2: 5, 1: 1, 4: 0, 3: 2})\n",
    "\n",
    "c.subtract(d)\n",
    "c"
   ]
  },
  {
   "cell_type": "markdown",
   "metadata": {},
   "source": [
    "# <center>OrderedDict</center>\n",
    "An OrderedDict is a dictionary subclass that remembers the order that keys were first inserted. The only difference between dict() and OrderedDict() is that:\n",
    "\n",
    "OrderedDict preserves the order in which the keys are inserted. A regular dict doesn’t track the insertion order, and iterating it gives the values in an arbitrary order. By contrast, the order the items are inserted is remembered by OrderedDict.\n",
    "\n",
    "https://www.geeksforgeeks.org/ordereddict-in-python/"
   ]
  },
  {
   "cell_type": "code",
   "execution_count": null,
   "metadata": {},
   "outputs": [],
   "source": []
  },
  {
   "cell_type": "code",
   "execution_count": null,
   "metadata": {},
   "outputs": [],
   "source": []
  }
 ],
 "metadata": {
  "kernelspec": {
   "display_name": "Python 3",
   "language": "python",
   "name": "python3"
  },
  "language_info": {
   "codemirror_mode": {
    "name": "ipython",
    "version": 3
   },
   "file_extension": ".py",
   "mimetype": "text/x-python",
   "name": "python",
   "nbconvert_exporter": "python",
   "pygments_lexer": "ipython3",
   "version": "3.8.6"
  }
 },
 "nbformat": 4,
 "nbformat_minor": 4
}
