{
 "cells": [
  {
   "cell_type": "markdown",
   "metadata": {},
   "source": [
    "### Why files?\n",
    "When you want to work with a file, the first thing to do is to open it. This is done by invoking the open() built-in function. \n",
    "\n",
    "open() has a single return: the file object.\n",
    "    \n",
    "**It’s important to remember that it’s your responsibility to close the file.** In most cases, upon termination of an application or script, a file will be closed eventually. However, there is no guarantee when exactly that will happen.\n",
    "\n",
    "\n",
    "### open()\n",
    "\n",
    "The key function for working with files in Python is the open() function.\n",
    "\n",
    "The open() function takes two parameters; filename, and mode.\n",
    "\n",
    "There are four different methods (modes) for opening a file:\n",
    "\n",
    "\"r\" - Read - Default value. Opens a file for reading, error if the file does not exist\n",
    "\n",
    "\"a\" - Append - Opens a file for appending, creates the file if it does not exist\n",
    "\n",
    "\"w\" - Write - Opens a file for writing, creates the file if it does not exist\n",
    "\n",
    "\"x\" - Create - Creates the specified file, returns an error if the file exists\n",
    "\n",
    "\"r+\" - for both reading and writing\n",
    "\n",
    "In addition you can specify if the file should be handled as binary or text mode\n",
    "\n",
    "\"t\" - Text - Default value. Text mode\n",
    "\n",
    "\"b\" - Binary - Binary mode (e.g. images)"
   ]
  },
  {
   "cell_type": "markdown",
   "metadata": {},
   "source": [
    "### https://docs.python.org/3/tutorial/inputoutput.html#reading-and-writing-files"
   ]
  },
  {
   "cell_type": "code",
   "execution_count": 1,
   "metadata": {},
   "outputs": [],
   "source": [
    "f = open(\"demo.txt\")\n",
    "# Operations\n",
    "f.close()\n",
    "\n",
    "# This is same because read (r) and text (t) is default mode.\n",
    "# f = open(\"demofile.txt\", \"rt\")"
   ]
  },
  {
   "cell_type": "code",
   "execution_count": 2,
   "metadata": {},
   "outputs": [
    {
     "name": "stdout",
     "output_type": "stream",
     "text": [
      "File Closed\n"
     ]
    }
   ],
   "source": [
    "# It is a good practice to always close the file when you are done with it. \n",
    "\n",
    "try:\n",
    "    x = 0\n",
    "    f= open(\"demo.txt\")\n",
    "    # Some operations\n",
    "except:\n",
    "    print('error')\n",
    "else:\n",
    "    print(\"File Closed\")\n",
    "    f.close()"
   ]
  },
  {
   "cell_type": "code",
   "execution_count": 3,
   "metadata": {},
   "outputs": [
    {
     "name": "stdout",
     "output_type": "stream",
     "text": [
      "Lorem Ipsum is simply dummy \n",
      "\n",
      "text of the printing and typesetting \n",
      "\n",
      "industry. Lorem Ipsum has been the \n",
      "\n",
      "industry's standard dummy text ever \n",
      "\n",
      "since the 1500s, when an unknown \n",
      "\n",
      "printer took a galley of type and \n",
      "\n",
      "scrambled it to make a type specimen \n",
      "\n",
      "book. It has survived not only five \n",
      "\n",
      "centuries, but also the \n",
      "\n",
      "leap into electronic typesetting, \n",
      "\n",
      "remaining essentially unchanged.\n"
     ]
    }
   ],
   "source": [
    "# no need of finally block\n",
    "with open(\"demo.txt\") as f:\n",
    "    for i in f: \n",
    "        print(i)\n",
    "    # data processing\n",
    "    # data processing\n",
    "    \n",
    "# file is closed here"
   ]
  },
  {
   "cell_type": "code",
   "execution_count": 4,
   "metadata": {},
   "outputs": [
    {
     "name": "stdout",
     "output_type": "stream",
     "text": [
      "Lorem Ipsum is simply dummy \n",
      "\n",
      "text of the printing and typesetting \n",
      "\n",
      "industry. Lorem Ipsum has been the \n",
      "\n",
      "industry's standard dummy text ever \n",
      "\n",
      "since the 1500s, when an unknown \n",
      "\n",
      "printer took a galley of type and \n",
      "\n",
      "scrambled it to make a type specimen \n",
      "\n",
      "book. It has survived not only five \n",
      "\n",
      "centuries, but also the \n",
      "\n",
      "leap into electronic typesetting, \n",
      "\n",
      "remaining essentially unchanged.\n"
     ]
    }
   ],
   "source": [
    "# Printing each line in file:\n",
    "with open(\"demo.txt\") as my_file:\n",
    "    for i in my_file:\n",
    "        print(i)"
   ]
  },
  {
   "cell_type": "markdown",
   "metadata": {},
   "source": [
    "### Reading contents from file:\n",
    "\n",
    "- read() takes a number as a parameter and reads from the file based on that number of bytes. If no argument is passed, or None or -1 is passed, then the entire file is read.\n",
    "\n",
    "- readline() takes a number as a parameter and reads at most that number of characters from the line. This continues to the end of the line and then wraps back around. If no argument is passed, or None or -1 is passed, then the entire line (or rest of the line) is read.\n",
    "\n",
    "- readlines() reads the remaining lines from the file object and returns them as a list."
   ]
  },
  {
   "cell_type": "code",
   "execution_count": 5,
   "metadata": {},
   "outputs": [
    {
     "name": "stdout",
     "output_type": "stream",
     "text": [
      "Lorem Ipsum is simpl\n"
     ]
    }
   ],
   "source": [
    "# read()\n",
    "\n",
    "with open(\"demo.txt\") as f:\n",
    "    print(f.read(20))"
   ]
  },
  {
   "cell_type": "code",
   "execution_count": 6,
   "metadata": {},
   "outputs": [
    {
     "name": "stdout",
     "output_type": "stream",
     "text": [
      "text of th\n",
      "industry. \n",
      "industry's\n",
      "since the \n",
      "printer to\n",
      "scrambled \n",
      "book. It h\n",
      "centuries,\n",
      "leap into \n",
      "remaining \n",
      "\n"
     ]
    }
   ],
   "source": [
    "# readline()\n",
    "with open(\"demo.txt\") as f:\n",
    "    for i in f:\n",
    "        data = f.readline(10)\n",
    "        print(data)"
   ]
  },
  {
   "cell_type": "code",
   "execution_count": 7,
   "metadata": {},
   "outputs": [
    {
     "name": "stdout",
     "output_type": "stream",
     "text": [
      "Lorem Ipsu <class 'str'>\n"
     ]
    }
   ],
   "source": [
    "# readline()\n",
    "with open(\"demo.txt\") as f:\n",
    "    data = f.readline(10)\n",
    "    print(data, type(data))"
   ]
  },
  {
   "cell_type": "code",
   "execution_count": 8,
   "metadata": {},
   "outputs": [
    {
     "name": "stdout",
     "output_type": "stream",
     "text": [
      "Lorem Ipsum is simply dummy \n",
      "\n",
      "text of the printing and typesetting \n",
      "\n"
     ]
    }
   ],
   "source": [
    "# By calling readline() two times, you can read the two first lines\n",
    "\n",
    "with open(\"demo.txt\") as f:\n",
    "    data = f.readline()\n",
    "    print(data)\n",
    "    print(f.readline())"
   ]
  },
  {
   "cell_type": "code",
   "execution_count": 9,
   "metadata": {},
   "outputs": [
    {
     "name": "stdout",
     "output_type": "stream",
     "text": [
      "Lorem Ipsum is simply dummy \n",
      " <class 'str'>\n",
      "text of the printing and typesetting \n",
      " <class 'str'>\n",
      "industry. Lorem Ipsum has been the \n",
      " <class 'str'>\n",
      "industry's standard dummy text ever \n",
      " <class 'str'>\n",
      "since the 1500s, when an unknown \n",
      " <class 'str'>\n",
      "printer took a galley of type and \n",
      " <class 'str'>\n",
      "scrambled it to make a type specimen \n",
      " <class 'str'>\n",
      "book. It has survived not only five \n",
      " <class 'str'>\n",
      "centuries, but also the \n",
      " <class 'str'>\n",
      "leap into electronic typesetting, \n",
      " <class 'str'>\n",
      "remaining essentially unchanged. <class 'str'>\n"
     ]
    }
   ],
   "source": [
    "# By looping through the lines of the file, you can read the whole file, line by line.\n",
    "\n",
    "with open(\"demo.txt\") as f:\n",
    "    for i in f:\n",
    "        print(i, type(i))"
   ]
  },
  {
   "cell_type": "code",
   "execution_count": 10,
   "metadata": {},
   "outputs": [
    {
     "name": "stdout",
     "output_type": "stream",
     "text": [
      "['Lorem Ipsum is simply dummy \\n', 'text of the printing and typesetting \\n', 'industry. Lorem Ipsum has been the \\n', \"industry's standard dummy text ever \\n\", 'since the 1500s, when an unknown \\n', 'printer took a galley of type and \\n', 'scrambled it to make a type specimen \\n', 'book. It has survived not only five \\n', 'centuries, but also the \\n', 'leap into electronic typesetting, \\n', 'remaining essentially unchanged.'] <class 'list'>\n"
     ]
    }
   ],
   "source": [
    "# If you want to read all the lines of a file in a list you can also use list(f) or f.readlines()\n",
    "\n",
    "with open(\"demo.txt\") as f:\n",
    "    data= f.readlines()\n",
    "    print(data, type(data))"
   ]
  },
  {
   "cell_type": "markdown",
   "metadata": {},
   "source": [
    "### Writing to an existing file\n",
    "To write to an existing file, you must add a parameter to the open() function:\n",
    "\n",
    "\"a\" - Append - will append to the end of the file\n",
    "\n",
    "\"w\" - Write - will overwrite any existing content\n",
    "\n",
    "\"r+\""
   ]
  },
  {
   "cell_type": "code",
   "execution_count": 11,
   "metadata": {},
   "outputs": [],
   "source": [
    "with open(\"demo.txt\",\"a\") as f:\n",
    "    f.write(\"Content appended\")\n",
    "#     print(f.readlines(), type(data))"
   ]
  },
  {
   "cell_type": "code",
   "execution_count": 12,
   "metadata": {},
   "outputs": [],
   "source": [
    "with open(\"demo.txt\",\"a\") as f:\n",
    "    f.write(\"\\nContent appended with new line character\")"
   ]
  },
  {
   "cell_type": "code",
   "execution_count": 13,
   "metadata": {},
   "outputs": [
    {
     "name": "stdout",
     "output_type": "stream",
     "text": [
      "Lorem Ipsum is simply dummy \n",
      "text of the printing and typesetting \n",
      "industry. Lorem Ipsum has been the \n",
      "industry's standard dummy text ever \n",
      "since the 1500s, when an unknown \n",
      "printer took a galley of type and \n",
      "scrambled it to make a type specimen \n",
      "book. It has survived not only five \n",
      "centuries, but also the \n",
      "leap into electronic typesetting, \n",
      "remaining essentially unchanged.Content appended\n",
      "Content appended with new line character\n"
     ]
    }
   ],
   "source": [
    "with open(\"demo.txt\",\"r\") as f:\n",
    "    print(f.read())"
   ]
  },
  {
   "cell_type": "code",
   "execution_count": 18,
   "metadata": {},
   "outputs": [
    {
     "name": "stdout",
     "output_type": "stream",
     "text": [
      "text of the printing and typesetting \n",
      "industry. Lorem Ipsum has been the \n",
      "industry's standard dummy text ever \n",
      "since the 1500s, when an unknown \n",
      "printer took a galley of type and \n",
      "scrambled it to make a type specimen \n",
      "book. It has survived not only five \n",
      "centuries, but also the \n",
      "leap into electronic typesetting, \n",
      "remaining essentially unchanged.Content appended\n",
      "Content appended with new line characterAdded new line using r+ mode\n"
     ]
    }
   ],
   "source": [
    "with open(\"demo.txt\",\"r+\") as f:\n",
    "    f.write(\"Added new line using r+ mode\\n\")\n",
    "    print(f.read())"
   ]
  },
  {
   "cell_type": "code",
   "execution_count": 19,
   "metadata": {},
   "outputs": [],
   "source": [
    "with open(\"demo.txt\",\"w\") as f:\n",
    "    f.write(\"Content overwritten\\n\")"
   ]
  },
  {
   "cell_type": "code",
   "execution_count": 20,
   "metadata": {},
   "outputs": [
    {
     "name": "stdout",
     "output_type": "stream",
     "text": [
      "Content overwritten\n",
      "\n"
     ]
    }
   ],
   "source": [
    "with open(\"demo.txt\",\"r\") as f:\n",
    "    print(f.read())"
   ]
  },
  {
   "cell_type": "markdown",
   "metadata": {},
   "source": [
    "### Delete file: \n",
    "https://www.w3schools.com/python/python_file_remove.asp"
   ]
  },
  {
   "cell_type": "markdown",
   "metadata": {},
   "source": [
    "# Question 1"
   ]
  },
  {
   "cell_type": "code",
   "execution_count": 21,
   "metadata": {},
   "outputs": [],
   "source": [
    "# Assume a file city.txt with details of 5 cities in the given format:\n",
    "# cityname  population(in lakhs) area(in sq KM) ):\n",
    "# Example:\n",
    "# Dehradun 5.78 308.20\n",
    "# Delhi 190 1484\n",
    "# …………… \n",
    "# Open file city.txt and read to:\n",
    "# Display details of all cities  [3]\n",
    "# Display city names with population more than 10Lakhs [4]\n",
    "# Display sum of areas of all cities  [3]"
   ]
  },
  {
   "cell_type": "code",
   "execution_count": 22,
   "metadata": {},
   "outputs": [
    {
     "name": "stdout",
     "output_type": "stream",
     "text": [
      "-------------------Displaying details of all cities-------------------\n",
      "Dehradun 5.78 308.20\n",
      "Rishikesh 190 1484\n",
      "Chennai 240 2005\n",
      "Lucknow 30.58 1576\n",
      "Haridwar 8 1500\n",
      "\n",
      "-------Displaying city names with population more than 10 Lakhs-------\n",
      "Rishikesh\n",
      "Chennai\n",
      "Lucknow\n",
      "\n",
      "----------------Displaying sum of areas of all cities-----------------\n",
      "Sum of areas of all cities = 6873.2 sq Km\n"
     ]
    }
   ],
   "source": [
    "with open('city.txt','r') as f:\n",
    "\n",
    "    print('Displaying details of all cities'.center(70,'-'))\n",
    "    for line in f:\n",
    "        print(line, end='')\n",
    "\n",
    "    f.seek(0)\n",
    "\n",
    "    print('\\n' + 'Displaying city names with population more than 10 Lakhs'.center(70,'-'))\n",
    "    l = f.readlines()\n",
    "    data = []\n",
    "    for i in range(5):\n",
    "        data.append(l[i].rstrip('\\n').split(' '))\n",
    "\n",
    "    for i in data:\n",
    "        if(float(i[1])>10):\n",
    "            print(i[0])\n",
    "\n",
    "    print('\\n' + 'Displaying sum of areas of all cities'.center(70,'-'))\n",
    "    sum = 0.0\n",
    "    for i in data:\n",
    "        x = float(i[2])\n",
    "        sum = sum + x\n",
    "    print('Sum of areas of all cities = {} sq Km'.format(sum))"
   ]
  },
  {
   "cell_type": "markdown",
   "metadata": {},
   "source": [
    "# Question 2"
   ]
  },
  {
   "cell_type": "code",
   "execution_count": 23,
   "metadata": {},
   "outputs": [],
   "source": [
    "# Assuming suitable data create a file “temp.txt” which stores the sales of 10 products quarterly in the given \n",
    "# format where sales_first is no of sales in the first quarter: \n",
    "# Productname sales_first sales_second sales_third sales_fourth\n",
    "\n",
    "# e.g.  TV 45 78 89 90\n",
    "#         mobile 123 678 781 772\n",
    "# ........\n",
    "# Write python script to:\n",
    "# Display all product details\n",
    "# Find the average sale of all products\n",
    "# Find a product with maximum sales"
   ]
  },
  {
   "cell_type": "code",
   "execution_count": 24,
   "metadata": {},
   "outputs": [
    {
     "name": "stdout",
     "output_type": "stream",
     "text": [
      "--------------------Displaying all product details--------------------\n",
      "TV 10 20 30 15\n",
      "Fridge 25 1 21 0\n",
      "Microwave 1 2 3 4\n",
      "AC 5 4 8 7\n",
      "Cooler 2 5 12 6\n",
      "Mobiles 12 32 21 14\n",
      "Mixer 17 4 11 8\n",
      "Grinder 13 6 5 11\n",
      "Fan 15 1 6 14\n",
      "Laptop 16 9 8 9\n",
      "\n",
      "---------------Displaying average sales of all products---------------\n",
      "Average sale of TV = 18.75\n",
      "Average sale of Fridge = 11.75\n",
      "Average sale of Microwave = 2.5\n",
      "Average sale of AC = 6.0\n",
      "Average sale of Cooler = 6.25\n",
      "Average sale of Mobiles = 19.75\n",
      "Average sale of Mixer = 10.0\n",
      "Average sale of Grinder = 8.75\n",
      "Average sale of Fan = 9.0\n",
      "Average sale of Laptop = 10.5\n",
      "\n",
      "Product having maximum sales is Mobiles\n"
     ]
    }
   ],
   "source": [
    "from collections import defaultdict\n",
    "\n",
    "with open('temp.txt','r') as f:\n",
    "\n",
    "    print('Displaying all product details'.center(70,'-'))\n",
    "    for line in f:\n",
    "        print(line, end='',sep='\\t')\n",
    "\n",
    "    f.seek(0)\n",
    "    l = f.readlines()\n",
    "    data = []\n",
    "    for i in range(10):\n",
    "        data.append(l[i].rstrip('\\n').split(' '))\n",
    "\n",
    "    # Find the average sale of all products\n",
    "    print('\\n' + 'Displaying average sales of all products'.center(70,'-'))\n",
    "    for i in data:\n",
    "        print('Average sale of {} = {}'.format(i[0],((int(i[1]) + int(i[2]) + int(i[3]) + int(i[4]))/4)))\n",
    "    \n",
    "    # Find a product with maximum sales\n",
    "    d = defaultdict(int)\n",
    "    for i in data:\n",
    "        d[i[0]] = int(i[1]) + int(i[2]) + int(i[3]) + int(i[4])\n",
    "    m = sorted(d.items(), key = lambda x: x[1])[-1]\n",
    "    print('\\nProduct having maximum sales is {}'.format(m[0]))"
   ]
  },
  {
   "cell_type": "markdown",
   "metadata": {},
   "source": [
    "# Question 3"
   ]
  },
  {
   "cell_type": "code",
   "execution_count": null,
   "metadata": {},
   "outputs": [],
   "source": [
    "# Assume a file movie.txt with movie details, separated by spaces, in the given format:\n",
    "# (movie_name director_first_name production_cost(in crores) Year_of_release ):\n",
    "\n",
    "# Example:\n",
    "# Lagaan Ashutosh 98 2001\n",
    "# Dangal Nitesh 110 2016\n",
    "# …………… \n",
    "# Open file movie.txt and write a python script to:                                         \n",
    "# Count number of movies in the file.\n",
    "# Add a new movie detail (War Amit 180 2019) at the end of the file.\n",
    "# Display details of all movies where production cost is more than 80 Crores\n",
    "# Display the first five movie details.\n",
    "# Display director name who has worked in more than two movies."
   ]
  },
  {
   "cell_type": "code",
   "execution_count": 39,
   "metadata": {},
   "outputs": [
    {
     "name": "stdout",
     "output_type": "stream",
     "text": [
      "No. of movies in the file is 11\n",
      "No. of movies in the file after write operation is 11\n",
      "\n",
      "------Displaying details of all movies where production cost is more than 80 Crores-------\n",
      "Lagaan Ashutosh 98 2001\n",
      "Dangal Nitesh 110 2016\n",
      "Bahubali Rajmouli 400 2015\n",
      "Bahubali2 Rajmouli 200 2017\n",
      "Panipat Ashutosh 100 2019\n",
      "Bhootnath Nitesh 150 2014\n",
      "War Amit 180 2019\n",
      "\n",
      "---------------------------Displaying details of first 5 movies---------------------------\n",
      "Lagaan Ashutosh 98 2001\n",
      "Dangal Nitesh 110 2016\n",
      "K3G Karan 75 2000\n",
      "Bahubali Rajmouli 400 2015\n",
      "Drive Karan 50 2019  \n",
      "\n",
      "------------Displaying name of directors who have worked in more than 2 movies------------\n",
      "Ashutosh\n",
      "Karan\n"
     ]
    }
   ],
   "source": [
    "from collections import Counter \n",
    "\n",
    "with open('movie.txt','r+') as f:\n",
    "\n",
    "    # Counting no of lines in file\n",
    "    count = 0\n",
    "    for line in f:\n",
    "        count+=1\n",
    "    print('No. of movies in the file is {}'.format(count))\n",
    "    \n",
    "    # Adding new movie details\n",
    "#     f.write('\\nWar Amit 180 2019')\n",
    "    f.seek(0)\n",
    "    \n",
    "    count = 0\n",
    "    for line in f:\n",
    "        count+=1\n",
    "    print('No. of movies in the file after write operation is {}'.format(count))\n",
    "    f.seek(0)\n",
    "    \n",
    "    # All movies with production cost more than 80 crores\n",
    "    print('\\n'+'Displaying details of all movies where production cost is more than 80 Crores'.center(90,'-'))\n",
    "\n",
    "    l = f.readlines()\n",
    "    data = []\n",
    "    for i in range(count):\n",
    "        data.append(l[i].rstrip('\\n').split(' '))\n",
    "    f.seek(0)\n",
    "    \n",
    "    for i in data:\n",
    "        if(float(i[2])>80):\n",
    "            print(*i)\n",
    "    f.seek(0)\n",
    "    \n",
    "    # Displaying first 5 movie details\n",
    "    print('\\n' + 'Displaying details of first 5 movies'.center(90,'-'))\n",
    "    for i in range(5):\n",
    "        print(f.readline(),end='')\n",
    " \n",
    "     # Displaying director who has worked in more than 2 films\n",
    "    temp = []\n",
    "    for i in data:\n",
    "        temp.append(i[1])\n",
    "    c = Counter(temp)\n",
    "    print('\\n' + 'Displaying name of directors who have worked in more than 2 movies'.center(90,'-'))\n",
    "    for x,y in c.items():\n",
    "        if y>2:\n",
    "            print(x)"
   ]
  },
  {
   "cell_type": "code",
   "execution_count": null,
   "metadata": {},
   "outputs": [],
   "source": []
  }
 ],
 "metadata": {
  "celltoolbar": "Raw Cell Format",
  "kernelspec": {
   "display_name": "Python 3",
   "language": "python",
   "name": "python3"
  },
  "language_info": {
   "codemirror_mode": {
    "name": "ipython",
    "version": 3
   },
   "file_extension": ".py",
   "mimetype": "text/x-python",
   "name": "python",
   "nbconvert_exporter": "python",
   "pygments_lexer": "ipython3",
   "version": "3.8.6"
  }
 },
 "nbformat": 4,
 "nbformat_minor": 4
}
