{
 "cells": [
  {
   "cell_type": "markdown",
   "metadata": {},
   "source": [
    "# <center>Introduction</center>\n",
    "https://www.w3schools.com/python/python_intro.asp\n",
    "\n",
    "# <center>Installation</center>\n",
    "https://www.w3schools.com/python/python_getstarted.asp\n",
    "\n",
    "# <center>Scripts vs Modules</center>\n",
    "\n",
    "The main difference between a module and a script is that modules are meant to be imported, while scripts are made to be directly executed.\n",
    "\n",
    "### What is Python Interpreter?\n",
    "Python is an excellent programming language that allows you to be productive in a wide variety of fields. Python is also a piece of software called an interpreter. The interpreter is the program you’ll need to run Python code and scripts. Technically, the interpreter is a layer of software that works between your program and your computer hardware to get your code running. Depending on the Python implementation you use, the interpreter can be:\n",
    "\n",
    "1. A program written in C, like CPython, which is the core implementation of the language\n",
    "2. A program written in Java, like Jython\n",
    "3. A program written in Python itself, like PyPy\n",
    "4. A program implemented in .NET, like IronPython\n",
    "\n",
    "Whatever form the interpreter takes, the code you write will always be run by this program. Therefore, the first condition to be able to run Python scripts is to have the interpreter correctly installed on your system.\n",
    "\n",
    "The interpreter is able to run Python code in two different ways:\n",
    "\n",
    "1. As a script or module\n",
    "2. As a piece of code typed into an interactive session\n",
    "\n",
    "### How to Run Python Code Interactively\n",
    "A widely used way to run Python code is through an interactive session. To start a Python interactive session, just open a command-line or terminal and then type in python, or python3 depending on your Python installation, and then hit Enter. The standard prompt for the interactive mode is >>>, so as soon as you see these characters, you’ll know you are in.\n",
    "\n",
    "Now, you can write and run Python code as you wish, with the only drawback being that when you **close the session, your code will be gone.**\n",
    "\n",
    "When you work interactively, every expression and statement you type in is evaluated and executed immediately. An interactive session will allow you to test every piece of code you write, which makes it an awesome development tool and an excellent place to experiment with the language and test Python code on the fly.\n",
    "\n",
    "To exit interactive mode, you can use one of the following options:\n",
    "\n",
    "quit() or exit(), which are built-in functions\n",
    "The Ctrl+Z and Enter key combination on Windows, or just Ctrl+D on Unix-like systems\n",
    "\n",
    "### How Does the Interpreter Run Python Scripts?\n",
    "When you try to run Python scripts, a multi-step process begins. In this process the interpreter will:\n",
    "\n",
    "1. Process the statements of your script in a sequential fashion\n",
    "2. Compile the source code to an intermediate format known as bytecode\n",
    "3. This bytecode is a translation of the code into a lower-level language that’s platform-independent. Its purpose is to optimize code execution. So, the next time the interpreter runs your code, it’ll bypass this compilation step. Strictly speaking, this code optimization is only for modules (imported files), not for executable scripts.\n",
    "4. Ship off the code for execution\n",
    "\n",
    "At this point, something known as a Python Virtual Machine (PVM) comes into action. The PVM is the runtime engine of Python. It is a cycle that iterates over the instructions of your bytecode to run them one by one.\n",
    "\n",
    "The PVM is not an isolated component of Python. It’s just part of the Python system you’ve installed on your machine. Technically, the PVM is the last step of what is called the Python interpreter.\n",
    "\n",
    "The whole process to run Python scripts is known as the Python Execution Model.\n",
    "\n",
    "### How to Run Python Scripts Using the Command-Line\n",
    "A Python interactive session will allow you to write a lot of lines of code, but once you close the session, you lose everything you’ve written. That’s why the usual way of writing Python programs is by using plain text files. By convention, those files will use the .py extension. (On Windows systems the extension can also be .pyw). Python code files can be created with any plain text editor.\n",
    "\n",
    "**Using the python Command:** To run Python scripts with the python command, you need to open a command-line and type in the word python, or python3 if you have both versions, followed by the path to your script.\n",
    "\n",
    "**Redirecting the Output**\n",
    "Sometimes it’s useful to save the output of a script for later analysis. Here’s how you can do that: **$ python3 hello.py > output.txt**\n",
    "\n",
    "This operation redirects the output of your script to output.txt, rather than to the standard system output (stdout). The process is commonly known as stream redirection and is available on both Windows and Unix-like systems.\n",
    "\n",
    "If output.txt doesn’t exist, then it’s automatically created. On the other hand, if the file already exists, then its contents will be replaced with the new output.\n",
    "\n",
    "**The output will be appended to the end of output.txt using:** $ python3 hello.py >> output.txt\n",
    "\n",
    "# <center>Dynamically Typed</center>\n",
    "\n",
    "Python is a dynamically typed language.We don't have to declare the type of variable while assigning a value to a variable in Python. \n",
    "Other languages like C, C++, Java, etc.., there is a strict declaration of variables before assigning values to them.\n",
    "Python don't have any problem even if we don't declare the type of variable. It states the kind of variable in the runtime of the program.\n",
    "\n",
    "# <center>Strongly Typed Language</center>\n",
    "Python is a strongly-typed language which means that it is restrictive about how the data types can be intermingled. The interpreter keeps track of all variables types. \n",
    "\n",
    "# <center>Python Reserved Words</center>"
   ]
  },
  {
   "cell_type": "code",
   "execution_count": null,
   "metadata": {},
   "outputs": [],
   "source": [
    "import keyword\n",
    "keyword.kwlist"
   ]
  },
  {
   "cell_type": "markdown",
   "metadata": {},
   "source": [
    "# <center>Indentation</center>"
   ]
  },
  {
   "cell_type": "code",
   "execution_count": null,
   "metadata": {},
   "outputs": [],
   "source": [
    "# Other languages: Only for readability\n",
    "# Python: Indicate block of code\n",
    "\n",
    "if 2>1:\n",
    "    print(\"Yes\")\n",
    "else:\n",
    "    print(\"No\")"
   ]
  },
  {
   "cell_type": "code",
   "execution_count": null,
   "metadata": {},
   "outputs": [],
   "source": [
    "if 2>1:\n",
    "        print(\"Yes\")\n",
    "    print(\"Done\")\n",
    "else:\n",
    "    print(\"No\")"
   ]
  },
  {
   "cell_type": "markdown",
   "metadata": {},
   "source": [
    "# <center>Comments</center>"
   ]
  },
  {
   "cell_type": "code",
   "execution_count": null,
   "metadata": {},
   "outputs": [],
   "source": [
    "# This is a single-line comment\n",
    "# Comment 1\n",
    "# For multi-line comment, put a # at the start of evert line\n",
    "\n",
    "print(\"hello\")  # This is a comment\n",
    "\n",
    "\"\"\"\n",
    "Alternatively, we can also use multiline string for a multiline comment. \n",
    "Since Python will ignore string literals that are not assigned to a variable, \n",
    "you can add a multiline string (triple quotes) in your code, and place your comment inside it.\n",
    "\"\"\"\n",
    "print(\"World\")\n"
   ]
  },
  {
   "cell_type": "markdown",
   "metadata": {},
   "source": [
    "# <center>Variables</center>\n",
    "\n",
    "- A variable is created the moment you first assign a value to it.\n",
    "- Variables do not need to be declared with any particular type, and can even change type after they have been set.\n",
    "- Rules for naming variable:  \n",
    "    -  start with a letter or '_'\n",
    "    -  cannot start with a number\n",
    "    -  can only contain alpha-numeric characters and underscores (A-z, 0-9, and _ )\n",
    "    -  Variable names are case sensitive"
   ]
  },
  {
   "cell_type": "code",
   "execution_count": null,
   "metadata": {},
   "outputs": [],
   "source": [
    "x = 10     \n",
    "print(type(x))\n",
    "print(x)"
   ]
  },
  {
   "cell_type": "code",
   "execution_count": null,
   "metadata": {},
   "outputs": [],
   "source": [
    "x = 10.5    \n",
    "print(type(x))\n",
    "print(x)"
   ]
  },
  {
   "cell_type": "code",
   "execution_count": null,
   "metadata": {},
   "outputs": [],
   "source": [
    "x = \"10\" \n",
    "print(type(x))\n",
    "print(x)"
   ]
  },
  {
   "cell_type": "code",
   "execution_count": null,
   "metadata": {},
   "outputs": [],
   "source": [
    "x = \"Hello\"\n",
    "print(type(x))\n",
    "print(x)\n",
    "\n",
    "x = 'World'    \n",
    "print(type(x))\n",
    "print(x)"
   ]
  },
  {
   "cell_type": "code",
   "execution_count": null,
   "metadata": {},
   "outputs": [],
   "source": [
    "x = 10     \n",
    "print(type(x))\n",
    "print(x)\n",
    "\n",
    "x = \"hi\"     \n",
    "print(type(x))\n",
    "print(x)"
   ]
  },
  {
   "cell_type": "markdown",
   "metadata": {},
   "source": [
    "### Casting: If you want to specify the data type of a variable, this can be done with casting."
   ]
  },
  {
   "cell_type": "code",
   "execution_count": null,
   "metadata": {},
   "outputs": [],
   "source": [
    "x = str(10)    # x will be '10'\n",
    "print(type(x))\n",
    "print(x)\n",
    "\n",
    "y = int(10)    # y will be 10\n",
    "print(type(y))\n",
    "print(y)\n",
    "\n",
    "z = float(10)  # z will be 10.0\n",
    "print(type(z))\n",
    "print(z)"
   ]
  },
  {
   "cell_type": "markdown",
   "metadata": {},
   "source": [
    "### Assign Multiple Values"
   ]
  },
  {
   "cell_type": "code",
   "execution_count": null,
   "metadata": {},
   "outputs": [],
   "source": [
    "x, y, z = \"One\", \"Two\", \"Three\"\n",
    "print(x)\n",
    "print(y)\n",
    "print(z)"
   ]
  },
  {
   "cell_type": "code",
   "execution_count": null,
   "metadata": {},
   "outputs": [],
   "source": [
    "x = y = z = \"Test\"\n",
    "print(x)\n",
    "print(y)\n",
    "print(z)"
   ]
  },
  {
   "cell_type": "code",
   "execution_count": null,
   "metadata": {},
   "outputs": [],
   "source": [
    "# Unpacking a collection: extract the values into variables\n",
    "\n",
    "names = [\"Ram\", \"Shyam\", \"Sita\"]\n",
    "x, y, z = names\n",
    "print(x)\n",
    "print(y)\n",
    "print(z)"
   ]
  },
  {
   "cell_type": "markdown",
   "metadata": {},
   "source": [
    "### Output a variable"
   ]
  },
  {
   "cell_type": "code",
   "execution_count": null,
   "metadata": {},
   "outputs": [],
   "source": [
    "x = \"language\"\n",
    "print(\"Python is a \" + x)"
   ]
  },
  {
   "cell_type": "code",
   "execution_count": null,
   "metadata": {},
   "outputs": [],
   "source": [
    "x = \"Python is a \"\n",
    "y = \"language\"\n",
    "z =  x + y\n",
    "print(z)"
   ]
  },
  {
   "cell_type": "code",
   "execution_count": null,
   "metadata": {},
   "outputs": [],
   "source": [
    "# For numbers, the + character works as a mathematical operator:\n",
    "\n",
    "x = 1\n",
    "y = 2\n",
    "print(x + y)"
   ]
  },
  {
   "cell_type": "code",
   "execution_count": null,
   "metadata": {},
   "outputs": [],
   "source": [
    "# Using + operator to combine a string and a number will give error\n",
    "\n",
    "x = 10\n",
    "y = \"Hello\"\n",
    "print(x + y)"
   ]
  },
  {
   "cell_type": "markdown",
   "metadata": {},
   "source": [
    "### Global Variables"
   ]
  },
  {
   "cell_type": "code",
   "execution_count": null,
   "metadata": {},
   "outputs": [],
   "source": [
    "x = 10\n",
    "\n",
    "def fun():\n",
    "  print(x)\n",
    "\n",
    "fun()"
   ]
  },
  {
   "cell_type": "markdown",
   "metadata": {},
   "source": [
    "# <center>Data Types</center>\n",
    "\n",
    "- **Text Types:** str\n",
    "- **Numeric Types:** int, float, complex\n",
    "- **Sequence Types:** list, tuple, range\n",
    "- **Mapping Type:** dict\n",
    "- **Set Types:** set, frozenset\n",
    "- **Boolean Type:** bool\n",
    "- **Binary Types:** bytes, bytearray, memoryview\n",
    "\n",
    "### Numbers\n",
    "\n",
    "- int: whole number, positive or negative, without decimals, of unlimited length.\n",
    "- float: decimal, exponential numbers\n",
    "- complex: 5j\n",
    "\n",
    "### Type Conversion"
   ]
  },
  {
   "cell_type": "code",
   "execution_count": null,
   "metadata": {},
   "outputs": [],
   "source": [
    "# We cannot convert complex number to any type\n",
    "\n",
    "x = 1    # int\n",
    "y = 2.8  # float\n",
    "z = 1j   # complex\n",
    "\n",
    "#convert from int to float:\n",
    "a = float(x)\n",
    "\n",
    "#convert from float to int:\n",
    "b = int(y)\n",
    "\n",
    "#convert from int to complex:\n",
    "c = complex(x)\n",
    "\n",
    "print(a)\n",
    "print(b)\n",
    "print(c)\n",
    "\n",
    "print(type(a))\n",
    "print(type(b))\n",
    "print(type(c))"
   ]
  },
  {
   "cell_type": "markdown",
   "metadata": {},
   "source": [
    "### Random Number\n",
    "Python does not have a random() function to make a random number, but Python has a built-in module called random that can be used to make random numbers:"
   ]
  },
  {
   "cell_type": "code",
   "execution_count": null,
   "metadata": {},
   "outputs": [],
   "source": [
    "import random\n",
    "print(random.randrange(10, 20))"
   ]
  },
  {
   "cell_type": "markdown",
   "metadata": {},
   "source": [
    "# <center>Output Formatting</center>"
   ]
  },
  {
   "cell_type": "markdown",
   "metadata": {},
   "source": [
    "### The print() function\n",
    "\n",
    "Syntax: print(object(s), sep=separator, end=end, file=file, flush=flush)\n",
    "- object(s): Any object, and as many as you like. \n",
    "    - Will be converted to string before printed\n",
    "- sep='separator': Optional. Specify how to separate the objects, if there is more than one. \n",
    "    - Default is ' '\n",
    "- end='end': Optional. Specify what to print at the end. \n",
    "    - Default is '\\n' (line feed)\n",
    "- file:\tOptional. An object with a write method. \n",
    "    - Default is sys.stdout\n",
    "- flush: Optional. A Boolean, specifying if the output is flushed (True) or buffered (False). \n",
    "    - Default is False"
   ]
  },
  {
   "cell_type": "code",
   "execution_count": null,
   "metadata": {},
   "outputs": [],
   "source": [
    "help(print)"
   ]
  },
  {
   "cell_type": "code",
   "execution_count": null,
   "metadata": {},
   "outputs": [],
   "source": [
    "print(\"Hello\" + \"World\")"
   ]
  },
  {
   "cell_type": "code",
   "execution_count": null,
   "metadata": {},
   "outputs": [],
   "source": [
    "print(\"Hello\")\n",
    "print(\"World\")"
   ]
  },
  {
   "cell_type": "code",
   "execution_count": null,
   "metadata": {},
   "outputs": [],
   "source": [
    "print(\"Hello World\")"
   ]
  },
  {
   "cell_type": "code",
   "execution_count": null,
   "metadata": {},
   "outputs": [],
   "source": [
    "print(\"Hello\", end = \" \")\n",
    "print(\"World\")\n",
    "print(\"Hi\")"
   ]
  },
  {
   "cell_type": "code",
   "execution_count": null,
   "metadata": {},
   "outputs": [],
   "source": [
    "print(\"Hello\", \"World\")"
   ]
  },
  {
   "cell_type": "code",
   "execution_count": null,
   "metadata": {},
   "outputs": [],
   "source": [
    "print(\"Hello\", \"World\", sep=\"#\")"
   ]
  },
  {
   "cell_type": "code",
   "execution_count": null,
   "metadata": {},
   "outputs": [],
   "source": [
    "'Ram' + 'SHyam'"
   ]
  },
  {
   "cell_type": "code",
   "execution_count": null,
   "metadata": {},
   "outputs": [],
   "source": [
    "'Ram' + str(10)"
   ]
  },
  {
   "cell_type": "code",
   "execution_count": null,
   "metadata": {},
   "outputs": [],
   "source": [
    "age= 21\n",
    "name= 'Ram'"
   ]
  },
  {
   "cell_type": "code",
   "execution_count": null,
   "metadata": {},
   "outputs": [],
   "source": [
    "# Approach 1\n",
    "print('my age is '+ str(age))"
   ]
  },
  {
   "cell_type": "code",
   "execution_count": null,
   "metadata": {},
   "outputs": [],
   "source": [
    "# Approach 2\n",
    "print('my age is',age,'and my name is',name)"
   ]
  },
  {
   "cell_type": "code",
   "execution_count": null,
   "metadata": {},
   "outputs": [],
   "source": [
    "# Approach 3: using f-string\n",
    "print(f'my age is {age} and my name is {name}')"
   ]
  },
  {
   "cell_type": "code",
   "execution_count": null,
   "metadata": {},
   "outputs": [],
   "source": [
    "name='Ram'\n",
    "print('hello, ' + name + ' how are you?')"
   ]
  },
  {
   "cell_type": "code",
   "execution_count": null,
   "metadata": {},
   "outputs": [],
   "source": [
    "for i in range(10):\n",
    "    print(i, end= ' ')"
   ]
  },
  {
   "cell_type": "code",
   "execution_count": null,
   "metadata": {},
   "outputs": [],
   "source": [
    "# Using join method:\n",
    "print(' '.join([\"Joe is\", 42, \"years old\"]))"
   ]
  },
  {
   "cell_type": "code",
   "execution_count": null,
   "metadata": {},
   "outputs": [],
   "source": [
    "# It’s safer to just unpack the sequence with the star operator (*) and let print() handle type casting:\n",
    "print(*[10, 20, 30], sep= '-')"
   ]
  },
  {
   "cell_type": "code",
   "execution_count": null,
   "metadata": {},
   "outputs": [],
   "source": [
    "# When two non-Boolean values are joined by 'and' or 'or', the value of the expression is one of the \n",
    "# operands, not True or False.\n",
    "\n",
    "a=100\n",
    "b=200\n",
    "a or b"
   ]
  },
  {
   "cell_type": "code",
   "execution_count": null,
   "metadata": {},
   "outputs": [],
   "source": [
    "x = 0.1 + 0.2\n",
    "print(x)\n",
    "# x == 0.3\n",
    "\n",
    "# Explanation: floating-point numbers are implemented in computer hardware as binary fractions as the \n",
    "# computer only understands binary (0 and 1). Due to this reason, most of the decimal fractions we know, \n",
    "# cannot be accurately stored in our computer. Let's take an example. We cannot represent the fraction 1/3 \n",
    "# as a decimal number. This will give 0.33333333... which is infinitely long, and we can only approximate it.\n",
    "# Unfortunately, most decimal fractions cannot be represented exactly as binary fractions. \n",
    "# A consequence is that, in general, the decimal floating-point numbers you enter are only approximated by \n",
    "# the binary floating-point numbers actually stored in the machine.\n",
    "\n",
    "# Using Python's decimal class would give you better results.\n",
    "\n",
    "# Documentation link:https://docs.python.org/3.3/tutorial/floatingpoint.html"
   ]
  },
  {
   "cell_type": "code",
   "execution_count": null,
   "metadata": {},
   "outputs": [],
   "source": [
    "# Solution: Use decimal class when we want to carry out decimal calculations as we learned in school.\n",
    "\n",
    "from decimal import Decimal as D\n",
    "\n",
    "print(D('0.1') + D('0.2'))"
   ]
  },
  {
   "cell_type": "code",
   "execution_count": null,
   "metadata": {},
   "outputs": [],
   "source": [
    "threshold = 0.00001\n",
    "x = 1.1 + 2.2\n",
    "print(x)\n",
    "print(x - 3.3)\n",
    "abs(x - 3.3) < threshold"
   ]
  },
  {
   "cell_type": "markdown",
   "metadata": {},
   "source": [
    "### Formatting output using String modulo operator(%) "
   ]
  },
  {
   "cell_type": "code",
   "execution_count": null,
   "metadata": {},
   "outputs": [],
   "source": [
    "val = 'Hi'\n",
    "name = 'Joseph'\n",
    "\n",
    "print(\"%s, my name is %s.\" % (val,name)) \n",
    "\n",
    "n = 50\n",
    "print(\"The number is: %d and %f\" % (n, 120.20))"
   ]
  },
  {
   "cell_type": "markdown",
   "metadata": {},
   "source": [
    "### The format() Method\n",
    "\n",
    "- added in Python 2.6\n",
    "- The brackets and characters within them are called format fields"
   ]
  },
  {
   "cell_type": "code",
   "execution_count": null,
   "metadata": {},
   "outputs": [],
   "source": [
    "# using format() method\n",
    "print('I am a {}'.format('Programmer'))\n",
    "print('The number is {}'.format(n))"
   ]
  },
  {
   "cell_type": "code",
   "execution_count": null,
   "metadata": {},
   "outputs": [],
   "source": [
    "# using format() method and refering to a position of the object\n",
    "print('{0} and {1}'.format('Hello', 'World'))\n",
    "print('{1} and {0}'.format('Hello', 'World'))"
   ]
  },
  {
   "cell_type": "markdown",
   "metadata": {},
   "source": [
    "### Formatted String literals\n",
    "To create an f-string, prefix the string with the letter “ f ”. The string itself can be formatted in much the same way that you would with str.format()."
   ]
  },
  {
   "cell_type": "code",
   "execution_count": null,
   "metadata": {},
   "outputs": [],
   "source": [
    "# the above formatting can also be done by using f-Strings. Works only with python 3.6 or above.\n",
    "print(f\"{val}, my name is {name}.\")"
   ]
  },
  {
   "cell_type": "markdown",
   "metadata": {},
   "source": [
    "# <center>Operators</center>\n",
    "https://www.w3schools.com/python/python_operators.asp\n",
    "\n",
    "# <center>Booleans</center>\n",
    "https://www.w3schools.com/python/python_booleans.asp"
   ]
  },
  {
   "cell_type": "markdown",
   "metadata": {},
   "source": [
    "# <center>if-else</center>"
   ]
  },
  {
   "cell_type": "code",
   "execution_count": null,
   "metadata": {},
   "outputs": [],
   "source": [
    "# C language: \n",
    "# if\n",
    "#     this\n",
    "# else\n",
    "#     this\n",
    "a = 33\n",
    "b = 200\n",
    "if b > a:\n",
    "  print(\"b is greater than a\")"
   ]
  },
  {
   "cell_type": "code",
   "execution_count": null,
   "metadata": {},
   "outputs": [],
   "source": [
    "a = 30\n",
    "b = 200\n",
    "\n",
    "# a = 300\n",
    "# b = 200\n",
    "\n",
    "# a = 30\n",
    "# b = 30\n",
    "\n",
    "if b > a:\n",
    "    print(\"b is greater than a\")\n",
    "elif b<a:\n",
    "    print(\"b is less than a\")\n",
    "else:\n",
    "    print(\"b is equal to a\")"
   ]
  },
  {
   "cell_type": "code",
   "execution_count": null,
   "metadata": {},
   "outputs": [],
   "source": [
    "# Short-hand\n",
    "\n",
    "# In c: condition ? value_if_true : value_if_false\n",
    "# Eg.: c = (a < b) ? a : b;\n",
    "\n",
    "a = 30\n",
    "b = 200\n",
    "if b>a: print(\"Yes\")\n",
    "\n",
    "# a = 20\n",
    "# b = 30\n",
    "# print(\"A\") if a > b else print(\"B\")\n",
    "\n",
    "# This is also called Ternany Operators or Conditional Expressions."
   ]
  },
  {
   "cell_type": "code",
   "execution_count": null,
   "metadata": {},
   "outputs": [],
   "source": [
    "# Nested if-else\n",
    "\n",
    "x = 41\n",
    "\n",
    "if x > 10:\n",
    "  print(\"Above ten,\")\n",
    "  if x > 20:\n",
    "    print(\"and also above 20!\")\n",
    "  else:\n",
    "    print(\"but not above 20.\")"
   ]
  },
  {
   "cell_type": "markdown",
   "metadata": {},
   "source": [
    "### Pass Statement\n",
    "if statements cannot be empty, but if you for some reason have an if statement with no content, put in the pass statement to avoid getting an error."
   ]
  },
  {
   "cell_type": "code",
   "execution_count": null,
   "metadata": {},
   "outputs": [],
   "source": [
    "a = 33\n",
    "b = 200\n",
    "\n",
    "if b > a:\n",
    "  \n",
    "else:\n",
    "    print(\"Test\")"
   ]
  },
  {
   "cell_type": "code",
   "execution_count": null,
   "metadata": {},
   "outputs": [],
   "source": [
    "a = 33\n",
    "b = 200\n",
    "\n",
    "if b > a:\n",
    "    pass\n",
    "else:\n",
    "    print(\"Test\")"
   ]
  },
  {
   "cell_type": "markdown",
   "metadata": {},
   "source": [
    "# <center>While loop</center>"
   ]
  },
  {
   "cell_type": "code",
   "execution_count": null,
   "metadata": {},
   "outputs": [],
   "source": [
    "# C language: \n",
    "# i=1;\n",
    "# while(i<6)\n",
    "# {\n",
    "#     printf(\"\"%d\",i));\n",
    "#     i++;\n",
    "# }\n",
    "i = 1\n",
    "while i < 6:\n",
    "  print(i)\n",
    "  i += 1"
   ]
  },
  {
   "cell_type": "markdown",
   "metadata": {},
   "source": [
    "### else in While loop"
   ]
  },
  {
   "cell_type": "code",
   "execution_count": null,
   "metadata": {},
   "outputs": [],
   "source": [
    "# With the else statement we can run a block of code once when the condition no longer is true:\n",
    "\n",
    "i=1\n",
    "while i < 6:\n",
    "    print(i)\n",
    "    i += 1\n",
    "else:\n",
    "    print(\"i is no longer less than 6\")"
   ]
  },
  {
   "cell_type": "markdown",
   "metadata": {},
   "source": [
    "# <center>For Loop</center>"
   ]
  },
  {
   "cell_type": "code",
   "execution_count": null,
   "metadata": {},
   "outputs": [],
   "source": [
    "# C language: \n",
    "# for(i=0;i<10;i++)\n",
    "# {  \n",
    "#     xyz;\n",
    "# }"
   ]
  },
  {
   "cell_type": "code",
   "execution_count": null,
   "metadata": {},
   "outputs": [],
   "source": [
    "# Looping Through a String\n",
    "\n",
    "for x in \"Universe\":\n",
    "    print(x)"
   ]
  },
  {
   "cell_type": "code",
   "execution_count": null,
   "metadata": {},
   "outputs": [],
   "source": [
    "# Looping through a list\n",
    "\n",
    "fruits = [\"apple\", \"banana\", \"cherry\"]\n",
    "for x in fruits:\n",
    "    print(x)"
   ]
  },
  {
   "cell_type": "markdown",
   "metadata": {},
   "source": [
    "### break in for loop"
   ]
  },
  {
   "cell_type": "code",
   "execution_count": null,
   "metadata": {},
   "outputs": [],
   "source": [
    "\n",
    "for x in \"Universe\":\n",
    "    print(x)\n",
    "    if x == \"v\":\n",
    "        break"
   ]
  },
  {
   "cell_type": "markdown",
   "metadata": {},
   "source": [
    "### continue in for loop"
   ]
  },
  {
   "cell_type": "code",
   "execution_count": null,
   "metadata": {},
   "outputs": [],
   "source": [
    "for x in \"Universe\":\n",
    "    print(x)\n",
    "    if x == \"v\":\n",
    "        continue\n",
    "        \n",
    "# for x in \"Universe\":\n",
    "#     if x == \"v\":\n",
    "#         continue\n",
    "#     print(x)"
   ]
  },
  {
   "cell_type": "markdown",
   "metadata": {},
   "source": [
    "### The range() function\n",
    "To loop through a set of code a specified number of times, we can use the range() function,\n",
    "The range() function returns a sequence of numbers, starting from 0 by default, and increments by 1 (by default), and ends at a specified number."
   ]
  },
  {
   "cell_type": "code",
   "execution_count": null,
   "metadata": {},
   "outputs": [],
   "source": [
    "for x in range(10):\n",
    "    print(x)"
   ]
  },
  {
   "cell_type": "code",
   "execution_count": null,
   "metadata": {},
   "outputs": [],
   "source": [
    "for x in range(3, 10):\n",
    "    print(x)"
   ]
  },
  {
   "cell_type": "code",
   "execution_count": null,
   "metadata": {},
   "outputs": [],
   "source": [
    "for x in range(3, 30, 2):\n",
    "    print(x)"
   ]
  },
  {
   "cell_type": "markdown",
   "metadata": {},
   "source": [
    "### else in For loop\n",
    "The else keyword in a for loop specifies a block of code to be executed when the loop is finished:"
   ]
  },
  {
   "cell_type": "code",
   "execution_count": null,
   "metadata": {},
   "outputs": [],
   "source": [
    "for x in range(6):\n",
    "    print(x)\n",
    "else:\n",
    "    print(\"Finished!\")"
   ]
  },
  {
   "cell_type": "code",
   "execution_count": null,
   "metadata": {},
   "outputs": [],
   "source": [
    "# Nested for loop\n",
    "\n",
    "adj = [\"red\", \"big\", \"tasty\"]\n",
    "fruits = [\"apple\", \"banana\", \"cherry\"]\n",
    "\n",
    "for x in adj:\n",
    "    for y in fruits:\n",
    "        print(x, y)"
   ]
  },
  {
   "cell_type": "markdown",
   "metadata": {},
   "source": [
    "### The pass statement\n",
    "for loops cannot be empty, but if you for some reason have a for loop with no content, put in the pass statement to avoid getting an error.\n",
    "\n"
   ]
  },
  {
   "cell_type": "code",
   "execution_count": null,
   "metadata": {},
   "outputs": [],
   "source": [
    "for x in [0, 1, 2]:\n",
    "    "
   ]
  },
  {
   "cell_type": "code",
   "execution_count": null,
   "metadata": {},
   "outputs": [],
   "source": [
    "for x in [0, 1, 2]:\n",
    "    pass"
   ]
  },
  {
   "cell_type": "markdown",
   "metadata": {},
   "source": [
    "# <center>Strings</center>\n",
    "Like many other popular programming languages, strings in Python are arrays of bytes representing unicode characters. However, Python does not have a character data type, a single character is simply a string with a length of 1. Square brackets can be used to access elements of the string."
   ]
  },
  {
   "cell_type": "code",
   "execution_count": null,
   "metadata": {},
   "outputs": [],
   "source": [
    "# Assign String to a Variable\n",
    "x = \"Hello\"\n",
    "print(x)"
   ]
  },
  {
   "cell_type": "code",
   "execution_count": null,
   "metadata": {},
   "outputs": [],
   "source": [
    "a = \"Hello World!\""
   ]
  },
  {
   "cell_type": "code",
   "execution_count": null,
   "metadata": {},
   "outputs": [],
   "source": [
    "# Strings as arrays\n",
    "print(a[1])\n",
    "print(a[6])"
   ]
  },
  {
   "cell_type": "code",
   "execution_count": null,
   "metadata": {},
   "outputs": [],
   "source": [
    "# Looping Through a String\n",
    "for i in a:\n",
    "    print(i)"
   ]
  },
  {
   "cell_type": "code",
   "execution_count": null,
   "metadata": {},
   "outputs": [],
   "source": [
    "# String Length\n",
    "print(len(a))"
   ]
  },
  {
   "cell_type": "markdown",
   "metadata": {},
   "source": [
    "Misc Functions: https://www.w3schools.com/python/python_strings.asp"
   ]
  },
  {
   "cell_type": "markdown",
   "metadata": {},
   "source": [
    "### String Slicing"
   ]
  },
  {
   "cell_type": "code",
   "execution_count": null,
   "metadata": {},
   "outputs": [],
   "source": [
    "print(a[2:5])"
   ]
  },
  {
   "cell_type": "code",
   "execution_count": null,
   "metadata": {},
   "outputs": [],
   "source": [
    "print(a[:5])"
   ]
  },
  {
   "cell_type": "code",
   "execution_count": null,
   "metadata": {},
   "outputs": [],
   "source": [
    "print(a[2:])"
   ]
  },
  {
   "cell_type": "markdown",
   "metadata": {},
   "source": [
    "### Negative Indexing"
   ]
  },
  {
   "cell_type": "code",
   "execution_count": null,
   "metadata": {},
   "outputs": [],
   "source": [
    "print(a[-5:-2])"
   ]
  },
  {
   "cell_type": "code",
   "execution_count": null,
   "metadata": {},
   "outputs": [],
   "source": [
    "# Upper Case\n",
    "print(a.upper())"
   ]
  },
  {
   "cell_type": "code",
   "execution_count": null,
   "metadata": {},
   "outputs": [],
   "source": [
    "# Lower Case\n",
    "print(a.lower())"
   ]
  },
  {
   "cell_type": "code",
   "execution_count": null,
   "metadata": {},
   "outputs": [],
   "source": [
    "# Remove Whitespace: strip()\n",
    "a = \"   Hello, World!     \"\n",
    "print(a.strip())"
   ]
  },
  {
   "cell_type": "code",
   "execution_count": null,
   "metadata": {},
   "outputs": [],
   "source": [
    "# Replace a string: returns a list\n",
    "a = \"Hello, World!\"\n",
    "print(a.split(\",\")) "
   ]
  },
  {
   "cell_type": "markdown",
   "metadata": {},
   "source": [
    "Other methods: https://www.w3schools.com/python/python_ref_string.asp"
   ]
  },
  {
   "cell_type": "markdown",
   "metadata": {},
   "source": [
    "### String Concatenation"
   ]
  },
  {
   "cell_type": "code",
   "execution_count": null,
   "metadata": {},
   "outputs": [],
   "source": [
    "a = \"Hello\"\n",
    "b = \"World\"\n",
    "c = a + b\n",
    "print(c)"
   ]
  },
  {
   "cell_type": "code",
   "execution_count": null,
   "metadata": {},
   "outputs": [],
   "source": [
    "a = \"Hello\"\n",
    "b = \"World\"\n",
    "c = a + \" \" + b\n",
    "print(c)"
   ]
  },
  {
   "cell_type": "markdown",
   "metadata": {},
   "source": [
    "### String Formatting: Done Above"
   ]
  },
  {
   "cell_type": "markdown",
   "metadata": {},
   "source": [
    "### Escape Character\n",
    "To insert characters that are illegal in a string, use an escape character.\n",
    "An escape character is a backslash \\ followed by the character you want to insert.\n",
    "An example of an illegal character is a double quote inside a string that is surrounded by double quotes:"
   ]
  },
  {
   "cell_type": "code",
   "execution_count": null,
   "metadata": {},
   "outputs": [],
   "source": [
    "txt = \"Hello, My name is \"Ram\" and I am a programmer.\""
   ]
  },
  {
   "cell_type": "code",
   "execution_count": null,
   "metadata": {},
   "outputs": [],
   "source": [
    "txt = \"Hello, My name is \\\"Ram\\\" and I am a programmer.\"\n",
    "print(txt)"
   ]
  },
  {
   "cell_type": "markdown",
   "metadata": {},
   "source": [
    "Other escape characters: https://www.w3schools.com/python/python_strings_escape.asp"
   ]
  },
  {
   "cell_type": "markdown",
   "metadata": {},
   "source": [
    "# <center>is vs ==</center>\n",
    "\n",
    "is is used for identity comparison, while == is used for equality comparison. \n",
    "\n",
    "If you care about equality (the two strings should contain the same characters), then 'is' operator is simply wrong and you should be using == instead.\n",
    "\n",
    "**Difference Between == and is: is checks whether the variables are referring to the same object in memory, while == checks whether the variables have the same value.**\n",
    "\n",
    "The reason 'is' works interactively is that (most) string literals are interned by default.\n",
    "\n",
    "Without interning, checking that two different strings are equal involves examining every character of both strings. This is slow for several reasons: \n",
    "- it is inherently O(n) in the length of the strings\n",
    "- it typically requires reads from several regions of memory, which take time\n",
    "- the reads fills up the processor cache, meaning there is less cache available for other needs. \n",
    "\n",
    "So, when you have two string literals (words that are literally typed into your program source code, surrounded by quotation marks) in your program that have the same value, the Python compiler will automatically intern the strings, making them both stored at the same memory location. (Note that this doesn't always happen, and the rules for when this happens are quite convoluted, so please don't rely on this behavior in production code!). This means that, when we create two strings with the same value - instead of allocating memory for both of them, only one string is actually committed to memory. The other one just points to that same memory location.\n",
    "\n",
    "Since in your interactive session both strings are actually **stored in the same memory location, they have the same identity**, so the is operator works as expected. \n",
    "\n",
    "But if you construct a string by some other method (even if that string contains exactly the same characters), then the string may be equal, but it is not the same string -- that is, it has a different identity, because it is stored in a different place in memory.\n",
    "\n",
    "### Let us understand this more clearly with the help of an example:\n",
    "\n",
    "When string a is created, the compiler checks if Hello World is present in interned memory. Since it is the first occurrence of this string value, Python creates an object and caches this string in memory and points a to this reference.\n",
    "\n",
    "When b is created, Hello World is found by the compiler in the interned memory so instead of creating another string, b simply points to the previously allocated memory.\n",
    "\n",
    "**a is b and a == b in this case.**\n",
    "\n",
    "Finally, when we create the string c = 'Hello Worl', the compiler instantiates another object in interned memory because it could not find the same object for reference.\n",
    "\n",
    "When we compare a and c+'d', the latter is evaluated to 'Hello World. However', since Python doesn't do interning during runtime, a new object is created instead. Thus, since no interning was done, these two aren't the same object and is returns False.\n",
    "\n",
    "**In contrast to the is operator, the == operator compares the values of the strings after computing runtime expressions - Hello World == Hello World.**\n",
    "\n",
    "At that time, a and c+'d' are the same, value-wise, so this returns True.\n",
    "\n",
    "<img src=\"https://stackabuse.s3.amazonaws.com/media/guide-to-string-interning-in-python-1.png\"/>"
   ]
  },
  {
   "cell_type": "code",
   "execution_count": null,
   "metadata": {},
   "outputs": [],
   "source": [
    "a = \"Hello\"\n",
    "b = \"Hello\"\n",
    "print(id(a))\n",
    "print(id(b))\n",
    "\n",
    "print(a is b)\n",
    "print(a==b)\n",
    "\n",
    "print(a.__eq__(b))"
   ]
  },
  {
   "cell_type": "code",
   "execution_count": null,
   "metadata": {},
   "outputs": [],
   "source": [
    "c = \"Hell\"\n",
    "print(c+'o')\n",
    "print(id(a))\n",
    "print(id(c+'o'))\n",
    "\n",
    "print(a is (c+'o'))\n",
    "print(a==(c+'o'))"
   ]
  },
  {
   "cell_type": "markdown",
   "metadata": {},
   "source": [
    "### Additional links for string interning:\n",
    "https://stackoverflow.com/questions/3588776/how-is-eq-handled-in-python-and-in-what-order\n",
    "\n",
    "https://www.tutorialsteacher.com/python/magic-methods-in-python\n",
    "\n",
    "https://stackoverflow.com/questions/2988017/string-comparison-in-python-is-vs\n",
    "\n",
    "https://stackabuse.com/guide-to-string-interning-in-python/"
   ]
  }
 ],
 "metadata": {
  "kernelspec": {
   "display_name": "Python 3",
   "language": "python",
   "name": "python3"
  },
  "language_info": {
   "codemirror_mode": {
    "name": "ipython",
    "version": 3
   },
   "file_extension": ".py",
   "mimetype": "text/x-python",
   "name": "python",
   "nbconvert_exporter": "python",
   "pygments_lexer": "ipython3",
   "version": "3.8.6"
  }
 },
 "nbformat": 4,
 "nbformat_minor": 4
}
