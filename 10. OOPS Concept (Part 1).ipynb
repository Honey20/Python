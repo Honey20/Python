{
 "cells": [
  {
   "cell_type": "markdown",
   "metadata": {},
   "source": [
    "# <center>OOPS Concept</center>\n",
    "- Python is an object oriented programming language.\n",
    "- Almost everything in Python is an object, with its properties and methods.\n",
    "\n",
    "\n",
    "- **class:** blueprint/template, no memory allocation\n",
    "- **object:** physical entity of class, memory will be allocated, instance of a class\n",
    "\n",
    "\n",
    "### Why should we use classes?\n",
    "Classes allow us to logically group our data and functions in a way that is easy to reuse and also easy to build upon if needed.\n",
    "\n",
    "- Data and functions associated with a specific class are known as attributes and methods respectively."
   ]
  },
  {
   "cell_type": "code",
   "execution_count": 1,
   "metadata": {},
   "outputs": [
    {
     "name": "stdout",
     "output_type": "stream",
     "text": [
      "<class '__main__.Student'>\n"
     ]
    }
   ],
   "source": [
    "# Create a Class: To create a class, use the keyword class:\n",
    "\n",
    "class Student:\n",
    "    x = 5\n",
    "    \n",
    "print(Student)"
   ]
  },
  {
   "cell_type": "code",
   "execution_count": 2,
   "metadata": {},
   "outputs": [
    {
     "name": "stdout",
     "output_type": "stream",
     "text": [
      "<__main__.Student object at 0x7fb2d4c54a30>\n",
      "5\n"
     ]
    }
   ],
   "source": [
    "# Create Object: Now we can use the class named Student to create objects:\n",
    "\n",
    "class Student:\n",
    "    x = 5\n",
    "    \n",
    "obj1 = Student()\n",
    "print(obj1)\n",
    "print(obj1.x)"
   ]
  },
  {
   "cell_type": "markdown",
   "metadata": {},
   "source": [
    "### constructor: special method\n",
    "- name: __init__\n",
    "- explicitly called\n",
    "- has atleast one argument (self)\n",
    "- default constructor generated incase of not defined by user\n",
    "- to declare and initialize instance variables\n",
    "- constructor overloading is not avilable in python\n",
    "\n",
    "### The __init__() Function\n",
    "The examples above are classes and objects in their simplest form, and are not really useful in real life applications. To understand the meaning of classes we have to understand the built-in __init__() function.\n",
    "\n",
    "All classes have a function called __init__(), which is always executed when the class is being initiated.\n",
    "\n",
    "Use the __init__() function to assign values to object properties, or other operations that are necessary to do when the object is being created.\n",
    "\n",
    "The __init__() function is called automatically every time the class is being used to create a new object.\n",
    "\n",
    "### The self Parameter\n",
    "\n",
    "The self parameter is a reference to the current instance of the class, and is used to access variables that belongs to the class. It does not have to be named self , you can call it whatever you like, but it has to be the first parameter of any function in the class. Whenever we create methods within a class, they recieve instance (self) as the first argument.\n",
    "\n",
    "- similar to this keyword: to refer current object\n",
    "- self is not a keyword in python\n",
    "- use self within the class to refer instance variable\n",
    "- PVM provides value of self argument internally\n"
   ]
  },
  {
   "cell_type": "code",
   "execution_count": null,
   "metadata": {},
   "outputs": [],
   "source": [
    "# Example of class in other languages\n",
    "\n",
    "class Employee\n",
    "{\n",
    "    String name;\n",
    "    int sal;\n",
    "    static String uni_name= \"UPES\";\n",
    "    Employee()\n",
    "    {\n",
    "        this.name=\"Student1\"\n",
    "    }\n",
    "}"
   ]
  },
  {
   "cell_type": "code",
   "execution_count": 3,
   "metadata": {},
   "outputs": [
    {
     "name": "stdout",
     "output_type": "stream",
     "text": [
      "<__main__.Employee object at 0x7fb2d4c59f40> <__main__.Employee object at 0x7fb2d4c59bb0>\n"
     ]
    }
   ],
   "source": [
    "# class definitions cannot be empty, but if you for some reason have a class definition with no content, \n",
    "# put in the pass statement to avoid getting an error.\n",
    "\n",
    "class Employee:\n",
    "    pass\n",
    "\n",
    "emp1 = Employee()\n",
    "emp2 = Employee()\n",
    "print(emp1, emp2)"
   ]
  },
  {
   "cell_type": "code",
   "execution_count": 4,
   "metadata": {},
   "outputs": [
    {
     "name": "stdout",
     "output_type": "stream",
     "text": [
      "Ram\n",
      "Arjun\n"
     ]
    }
   ],
   "source": [
    "class Employee:\n",
    "    pass\n",
    "\n",
    "emp1 = Employee()\n",
    "emp2 = Employee()\n",
    "\n",
    "emp1.firstname = \"Ram\"\n",
    "emp1.lastname = \"Sharma\"\n",
    "emp1.age = 47\n",
    "\n",
    "emp2.firstname = \"Arjun\"\n",
    "emp2.lastname = \"Malhotra\"\n",
    "emp2.age = 36\n",
    "\n",
    "print(emp1.firstname)\n",
    "print(emp2.firstname)"
   ]
  },
  {
   "cell_type": "code",
   "execution_count": 5,
   "metadata": {},
   "outputs": [
    {
     "name": "stdout",
     "output_type": "stream",
     "text": [
      "emp name is Shyam\n",
      "emp name is Ram\n",
      "emp no is 12\n",
      "emp salary is 34546\n",
      "emp address is asdf\n"
     ]
    }
   ],
   "source": [
    "class Employee:\n",
    "\n",
    "    def __init__(self, name, eno, salary, address):\n",
    "        self.name= name\n",
    "        self.eno= eno\n",
    "        self.salary= salary\n",
    "        self.address= address\n",
    "            \n",
    "    def info(self):\n",
    "        name = 'Shyam'\n",
    "        print(f'emp name is {name}')\n",
    "        print(f'emp name is {self.name}')\n",
    "        print(f'emp no is {self.eno}')\n",
    "        print(f'emp salary is {self.salary}')\n",
    "        print(f'emp address is {self.address}')\n",
    "\n",
    "e1= Employee('Ram', 12, 34546, 'asdf')\n",
    "e1.info()"
   ]
  },
  {
   "cell_type": "code",
   "execution_count": 6,
   "metadata": {},
   "outputs": [],
   "source": [
    "e1= Employee('Ram', 12, 30000, 'ABC')\n",
    "e2= Employee('Arjun', 34, 54645, 'XYZ')\n",
    "e3= Employee('Sita', 64, 78999, 'HIJ')"
   ]
  },
  {
   "cell_type": "code",
   "execution_count": 7,
   "metadata": {},
   "outputs": [
    {
     "name": "stdout",
     "output_type": "stream",
     "text": [
      "emp name is Shyam\n",
      "emp name is Sita\n",
      "emp no is 64\n",
      "emp salary is 78999\n",
      "emp address is HIJ\n"
     ]
    }
   ],
   "source": [
    "e3.info()"
   ]
  },
  {
   "cell_type": "code",
   "execution_count": 8,
   "metadata": {},
   "outputs": [],
   "source": [
    "# constructor overloading\n",
    "class Try:\n",
    "    def __init__(self):\n",
    "        print(f'id of self1 is {id(self)}')\n",
    "        \n",
    "    def __init__(self, name):\n",
    "        print(f'id of self2 is {id(self)}')\n",
    "        print('hello')  \n",
    "        \n",
    "    def __init__(self, name, no):\n",
    "        print(f'id of self3 is {id(self)}')\n",
    "        print('hello')  "
   ]
  },
  {
   "cell_type": "code",
   "execution_count": 9,
   "metadata": {},
   "outputs": [
    {
     "ename": "TypeError",
     "evalue": "__init__() missing 2 required positional arguments: 'name' and 'no'",
     "output_type": "error",
     "traceback": [
      "\u001b[0;31m---------------------------------------------------------------------------\u001b[0m",
      "\u001b[0;31mTypeError\u001b[0m                                 Traceback (most recent call last)",
      "\u001b[0;32m<ipython-input-9-d31637f9636b>\u001b[0m in \u001b[0;36m<module>\u001b[0;34m\u001b[0m\n\u001b[0;32m----> 1\u001b[0;31m \u001b[0mt1\u001b[0m \u001b[0;34m=\u001b[0m \u001b[0mTry\u001b[0m\u001b[0;34m(\u001b[0m\u001b[0;34m)\u001b[0m\u001b[0;34m\u001b[0m\u001b[0;34m\u001b[0m\u001b[0m\n\u001b[0m",
      "\u001b[0;31mTypeError\u001b[0m: __init__() missing 2 required positional arguments: 'name' and 'no'"
     ]
    }
   ],
   "source": [
    "t1 = Try()"
   ]
  },
  {
   "cell_type": "code",
   "execution_count": 10,
   "metadata": {},
   "outputs": [
    {
     "ename": "TypeError",
     "evalue": "__init__() missing 1 required positional argument: 'no'",
     "output_type": "error",
     "traceback": [
      "\u001b[0;31m---------------------------------------------------------------------------\u001b[0m",
      "\u001b[0;31mTypeError\u001b[0m                                 Traceback (most recent call last)",
      "\u001b[0;32m<ipython-input-10-22c4a42ed102>\u001b[0m in \u001b[0;36m<module>\u001b[0;34m\u001b[0m\n\u001b[0;32m----> 1\u001b[0;31m \u001b[0mt2\u001b[0m \u001b[0;34m=\u001b[0m \u001b[0mTry\u001b[0m\u001b[0;34m(\u001b[0m\u001b[0;34m'name'\u001b[0m\u001b[0;34m)\u001b[0m\u001b[0;34m\u001b[0m\u001b[0;34m\u001b[0m\u001b[0m\n\u001b[0m",
      "\u001b[0;31mTypeError\u001b[0m: __init__() missing 1 required positional argument: 'no'"
     ]
    }
   ],
   "source": [
    "t2 = Try('name')"
   ]
  },
  {
   "cell_type": "code",
   "execution_count": 11,
   "metadata": {},
   "outputs": [
    {
     "name": "stdout",
     "output_type": "stream",
     "text": [
      "id of self3 is 140406050655776\n",
      "hello\n"
     ]
    }
   ],
   "source": [
    "t3 = Try('name','no')"
   ]
  },
  {
   "cell_type": "code",
   "execution_count": 12,
   "metadata": {},
   "outputs": [
    {
     "name": "stdout",
     "output_type": "stream",
     "text": [
      "Hello my name is John\n",
      "My age is: 36\n"
     ]
    }
   ],
   "source": [
    "class Person:\n",
    "    def __init__(mysillyobject, name, age):\n",
    "        mysillyobject.name = name\n",
    "        mysillyobject.age = age\n",
    "\n",
    "    def myfunc(abc):\n",
    "        print(\"Hello my name is \" + abc.name)\n",
    "        print(\"My age is: \" + str(abc.age))\n",
    "\n",
    "p1 = Person(\"John\",36)\n",
    "p1.myfunc()"
   ]
  },
  {
   "cell_type": "code",
   "execution_count": 13,
   "metadata": {},
   "outputs": [
    {
     "name": "stdout",
     "output_type": "stream",
     "text": [
      "Hello my name is John\n",
      "My age is: 40\n"
     ]
    }
   ],
   "source": [
    "# Modify Object Properties: You can modify properties on objects like this:\n",
    "p1.age = 40\n",
    "p1.myfunc()"
   ]
  },
  {
   "cell_type": "code",
   "execution_count": 14,
   "metadata": {},
   "outputs": [
    {
     "name": "stdout",
     "output_type": "stream",
     "text": [
      "Hello my name is John\n"
     ]
    },
    {
     "ename": "AttributeError",
     "evalue": "'Person' object has no attribute 'age'",
     "output_type": "error",
     "traceback": [
      "\u001b[0;31m---------------------------------------------------------------------------\u001b[0m",
      "\u001b[0;31mAttributeError\u001b[0m                            Traceback (most recent call last)",
      "\u001b[0;32m<ipython-input-14-ca0a7710e80e>\u001b[0m in \u001b[0;36m<module>\u001b[0;34m\u001b[0m\n\u001b[1;32m      1\u001b[0m \u001b[0;31m# Delete Object Properties: You can delete properties on objects by using the del keyword\u001b[0m\u001b[0;34m\u001b[0m\u001b[0;34m\u001b[0m\u001b[0;34m\u001b[0m\u001b[0m\n\u001b[1;32m      2\u001b[0m \u001b[0;32mdel\u001b[0m \u001b[0mp1\u001b[0m\u001b[0;34m.\u001b[0m\u001b[0mage\u001b[0m\u001b[0;34m\u001b[0m\u001b[0;34m\u001b[0m\u001b[0m\n\u001b[0;32m----> 3\u001b[0;31m \u001b[0mp1\u001b[0m\u001b[0;34m.\u001b[0m\u001b[0mmyfunc\u001b[0m\u001b[0;34m(\u001b[0m\u001b[0;34m)\u001b[0m\u001b[0;34m\u001b[0m\u001b[0;34m\u001b[0m\u001b[0m\n\u001b[0m",
      "\u001b[0;32m<ipython-input-12-0dde5f2fe44f>\u001b[0m in \u001b[0;36mmyfunc\u001b[0;34m(abc)\u001b[0m\n\u001b[1;32m      6\u001b[0m     \u001b[0;32mdef\u001b[0m \u001b[0mmyfunc\u001b[0m\u001b[0;34m(\u001b[0m\u001b[0mabc\u001b[0m\u001b[0;34m)\u001b[0m\u001b[0;34m:\u001b[0m\u001b[0;34m\u001b[0m\u001b[0;34m\u001b[0m\u001b[0m\n\u001b[1;32m      7\u001b[0m         \u001b[0mprint\u001b[0m\u001b[0;34m(\u001b[0m\u001b[0;34m\"Hello my name is \"\u001b[0m \u001b[0;34m+\u001b[0m \u001b[0mabc\u001b[0m\u001b[0;34m.\u001b[0m\u001b[0mname\u001b[0m\u001b[0;34m)\u001b[0m\u001b[0;34m\u001b[0m\u001b[0;34m\u001b[0m\u001b[0m\n\u001b[0;32m----> 8\u001b[0;31m         \u001b[0mprint\u001b[0m\u001b[0;34m(\u001b[0m\u001b[0;34m\"My age is: \"\u001b[0m \u001b[0;34m+\u001b[0m \u001b[0mstr\u001b[0m\u001b[0;34m(\u001b[0m\u001b[0mabc\u001b[0m\u001b[0;34m.\u001b[0m\u001b[0mage\u001b[0m\u001b[0;34m)\u001b[0m\u001b[0;34m)\u001b[0m\u001b[0;34m\u001b[0m\u001b[0;34m\u001b[0m\u001b[0m\n\u001b[0m\u001b[1;32m      9\u001b[0m \u001b[0;34m\u001b[0m\u001b[0m\n\u001b[1;32m     10\u001b[0m \u001b[0mp1\u001b[0m \u001b[0;34m=\u001b[0m \u001b[0mPerson\u001b[0m\u001b[0;34m(\u001b[0m\u001b[0;34m\"John\"\u001b[0m\u001b[0;34m,\u001b[0m\u001b[0;36m36\u001b[0m\u001b[0;34m)\u001b[0m\u001b[0;34m\u001b[0m\u001b[0;34m\u001b[0m\u001b[0m\n",
      "\u001b[0;31mAttributeError\u001b[0m: 'Person' object has no attribute 'age'"
     ]
    }
   ],
   "source": [
    "# Delete Object Properties: You can delete properties on objects by using the del keyword\n",
    "del p1.age\n",
    "p1.myfunc()"
   ]
  },
  {
   "cell_type": "code",
   "execution_count": 15,
   "metadata": {},
   "outputs": [
    {
     "ename": "NameError",
     "evalue": "name 'p1' is not defined",
     "output_type": "error",
     "traceback": [
      "\u001b[0;31m---------------------------------------------------------------------------\u001b[0m",
      "\u001b[0;31mNameError\u001b[0m                                 Traceback (most recent call last)",
      "\u001b[0;32m<ipython-input-15-64abcf942e76>\u001b[0m in \u001b[0;36m<module>\u001b[0;34m\u001b[0m\n\u001b[1;32m      1\u001b[0m \u001b[0;31m# You can delete objects by using the del keyword\u001b[0m\u001b[0;34m\u001b[0m\u001b[0;34m\u001b[0m\u001b[0;34m\u001b[0m\u001b[0m\n\u001b[1;32m      2\u001b[0m \u001b[0;32mdel\u001b[0m \u001b[0mp1\u001b[0m\u001b[0;34m\u001b[0m\u001b[0;34m\u001b[0m\u001b[0m\n\u001b[0;32m----> 3\u001b[0;31m \u001b[0mprint\u001b[0m\u001b[0;34m(\u001b[0m\u001b[0mp1\u001b[0m\u001b[0;34m)\u001b[0m\u001b[0;34m\u001b[0m\u001b[0;34m\u001b[0m\u001b[0m\n\u001b[0m",
      "\u001b[0;31mNameError\u001b[0m: name 'p1' is not defined"
     ]
    }
   ],
   "source": [
    "# You can delete objects by using the del keyword\n",
    "del p1\n",
    "print(p1)"
   ]
  },
  {
   "cell_type": "code",
   "execution_count": 16,
   "metadata": {},
   "outputs": [
    {
     "name": "stdout",
     "output_type": "stream",
     "text": [
      "<__main__.Student object at 0x7fb2d4c207f0> <__main__.Student object at 0x7fb2d4c206d0>\n"
     ]
    }
   ],
   "source": [
    "# class gives a blue-print of the object \n",
    "class Student: # a class having no attributes and no methods\n",
    "    pass\n",
    "\n",
    "#creating two different objects\n",
    "stud1 = Student()\n",
    "stud2 = Student()\n",
    "\n",
    "print(stud1, stud2) #Two different class objects"
   ]
  },
  {
   "cell_type": "code",
   "execution_count": 17,
   "metadata": {},
   "outputs": [
    {
     "name": "stdout",
     "output_type": "stream",
     "text": [
      "50006704@stu.upes.ac.in\n",
      "Ram Gupta\n",
      "Ram Gupta\n"
     ]
    }
   ],
   "source": [
    "class Student:\n",
    "    def __init__(self, fname, lname, sapid): # think of this like a constructor\n",
    "        self.fname = fname\n",
    "        self.lname = lname\n",
    "        self.sapid = sapid\n",
    "        self.email = sapid + '@stu.upes.ac.in'\n",
    "    \n",
    "    def fullname(self):\n",
    "        return f'{self.fname} {self.lname}'\n",
    "    \n",
    "stud1 = Student('Ram', 'Gupta', '50006704') #stud1 instance is passed to self by default\n",
    "\n",
    "print(stud1.email)\n",
    "print(stud1.fullname())\n",
    "\n",
    "print(Student.fullname(stud1)) #calling method using class and passing instance"
   ]
  },
  {
   "cell_type": "markdown",
   "metadata": {},
   "source": [
    "- instance: object level\n",
    "- static: class level\n",
    "- local: inside block (for temporary requirement)\n",
    "\n",
    "# <center>Types of variables: instance, static/class</center> \n",
    "\n",
    "# <center>Instance Variables</center>\n",
    "- Contain data unique to an instance. \n",
    "- Varies from object to object\n",
    "    \n",
    "    \n",
    "- Create instance variable using:\n",
    "1. within class---create and initialize using construtor\n",
    "2. within class---Inside instance method by using self\n",
    "3. outside class---using object reference \n",
    "\n",
    "- Access instance variable using:\n",
    "1. within class---by using self\n",
    "2. outside class-- using obj ref variable\n",
    "\n",
    "- delete instance variable using:\n",
    "1. within class---del self.variable name\n",
    "2. outside class-- del ref name"
   ]
  },
  {
   "cell_type": "code",
   "execution_count": 18,
   "metadata": {},
   "outputs": [
    {
     "name": "stdout",
     "output_type": "stream",
     "text": [
      "50006704@stu.upes.ac.in\n",
      "Ram Gupta\n",
      "Ram Gupta\n"
     ]
    }
   ],
   "source": [
    "# Example of instance variables\n",
    "class Student:\n",
    "    def __init__(self, fname, lname, sapid): \n",
    "        # Instance variables\n",
    "        self.fname = fname                    # names need not be same as arguments\n",
    "        self.lname = lname\n",
    "        self.sapid = sapid\n",
    "        self.email = sapid + '@stu.upes.ac.in'\n",
    "    \n",
    "    def fullname(self):\n",
    "        return(f'{self.fname} {self.lname}')\n",
    "    \n",
    "stud1 = Student('Ram', 'Gupta', '50006704') #stud1 instance is passed to self by default\n",
    "\n",
    "print(stud1.email)             \n",
    "\n",
    "# ways to call a class method\n",
    "print(stud1.fullname())        # # calling method using instance\n",
    "print(Student.fullname(stud1)) # calling method using class and passing instance"
   ]
  },
  {
   "cell_type": "markdown",
   "metadata": {},
   "source": [
    "# <center>Class/Static Variables</center>\n",
    "\n",
    "- Variable that are shared among all instances of a class\n",
    "- Can be accessed trhough class itself or using an instance of the class\n",
    "- Common for all objects, better memory management\n",
    "\n",
    "In C++ and Java, we can use static keywords to make a variable a class variable. The variables which don’t have a preceding static keyword are instance variables. The Python approach is simple; it doesn’t require a static keyword. \n",
    "\n",
    "When we declare a variable inside a class but outside any method, it is called as class or static variable in python.\n",
    "\n",
    "\n",
    "- Create static variable using:\n",
    "1. within class---inside constructor using classname\n",
    "2. within class---inside instance methods using classname\n",
    "3. within class---inside class methods using classname or cls variable\n",
    "4. within class---inside static methods using classname \n",
    "5. within class---outside all methods \n",
    "6. outside class-- using class name\n",
    "\n",
    "- Access static variable using:\n",
    "1. within class---by using cls, class name and self\n",
    "2. outside class-- using class name or ref variable\n",
    "\n",
    "- Modify static variable using:\n",
    "1. within class---by using cls, class name \n",
    "2. outside class-- using class name"
   ]
  },
  {
   "cell_type": "code",
   "execution_count": 19,
   "metadata": {},
   "outputs": [
    {
     "name": "stdout",
     "output_type": "stream",
     "text": [
      "UPES\n",
      "UPES\n"
     ]
    }
   ],
   "source": [
    "# Change name: can be hidden in multiple methods\n",
    "# Access the name of university: only through object\n",
    "# Pass info everytime an instance is created\n",
    "\n",
    "class Student:    \n",
    "    def __init__(self, fname, lname, sapid, univ): \n",
    "        # Instance variables\n",
    "        self.fname = fname                    \n",
    "        self.lname = lname\n",
    "        self.sapid = sapid\n",
    "        self.email = sapid + '@stu.upes.ac.in'\n",
    "        self.univ = univ\n",
    "    \n",
    "    def fullname(self):\n",
    "        return(f'{self.fname} {self.lname}')\n",
    "    \n",
    "stud1 = Student('Ram', 'Gupta', '50006704','UPES') \n",
    "stud2 = Student('Arjun', 'Uppal', '50006765','UPES')\n",
    "\n",
    "print(stud1.univ)   \n",
    "print(stud2.univ)"
   ]
  },
  {
   "cell_type": "code",
   "execution_count": 20,
   "metadata": {},
   "outputs": [
    {
     "name": "stdout",
     "output_type": "stream",
     "text": [
      "UPES\n",
      "UPES\n"
     ]
    }
   ],
   "source": [
    "class Student:    \n",
    "    def __init__(self, fname, lname, sapid): \n",
    "        # Instance variables\n",
    "        self.fname = fname                    \n",
    "        self.lname = lname\n",
    "        self.sapid = sapid\n",
    "        self.email = sapid + '@stu.upes.ac.in'\n",
    "    \n",
    "    def univname(self):\n",
    "        self.univ = 'UPES'\n",
    "        return(f'{self.univ}')\n",
    "\n",
    "stud1 = Student('Ram', 'Gupta', '50006704') \n",
    "stud2 = Student('Arjun', 'Uppal', '50006765')\n",
    "\n",
    "print(stud1.univname()) \n",
    "print(Student.univname(stud2))"
   ]
  },
  {
   "cell_type": "code",
   "execution_count": 21,
   "metadata": {},
   "outputs": [
    {
     "name": "stdout",
     "output_type": "stream",
     "text": [
      "UPES\n",
      "UPES\n",
      "UPES\n"
     ]
    }
   ],
   "source": [
    "# Example of class variables\n",
    "class Student:\n",
    "    # class variable\n",
    "    univ = 'UPES'\n",
    "    \n",
    "    def __init__(self, fname, lname, sapid): \n",
    "        # Instance variables\n",
    "        self.fname = fname                    \n",
    "        self.lname = lname\n",
    "        self.sapid = sapid\n",
    "        self.email = sapid + '@stu.upes.ac.in'\n",
    "    \n",
    "    def fullname(self):\n",
    "        return(f'{self.fname} {self.lname} {self.univ}')  # Accessing class variable using instance\n",
    "#         return(f'{self.fname} {self.lname} {Student.univ}')  # Accessing class variable using class\n",
    "    \n",
    "stud1 = Student('Ram', 'Gupta', '50006704') \n",
    "stud2 = Student('Arjun', 'Uppal', '50006765')\n",
    "\n",
    "# Accessing class variables using instance of a class\n",
    "print(stud1.univ)   \n",
    "print(stud2.univ)\n",
    "\n",
    "# Accessing class variables using a class\n",
    "print(Student.univ)"
   ]
  },
  {
   "cell_type": "markdown",
   "metadata": {},
   "source": [
    "### Note: When we try to access a variable using instance, it first checks if the isntance contains that attribute. If it doesn't, then it will check if the class or any class that it inherits from has that attribute.\n",
    "\n",
    "Class or static variable are quite distinct from and does not conflict with any other member variable with the same name. Below is a program to demonstrate the use of class or static variable."
   ]
  },
  {
   "cell_type": "code",
   "execution_count": 22,
   "metadata": {},
   "outputs": [
    {
     "name": "stdout",
     "output_type": "stream",
     "text": [
      "UPES UPES UPES\n",
      "\n",
      "{'fname': 'Arjun', 'lname': 'Uppal', 'sapid': '50006765', 'email': '50006765@stu.upes.ac.in'}\n",
      "{'__module__': '__main__', 'college': 'UPES', 'num_of_students': 2, '__init__': <function Student.__init__ at 0x7fb2d64811f0>, 'fullname': <function Student.fullname at 0x7fb2d4380e50>, '__dict__': <attribute '__dict__' of 'Student' objects>, '__weakref__': <attribute '__weakref__' of 'Student' objects>, '__doc__': None}\n",
      "\n",
      "NIT NIT NIT\n",
      "{'__module__': '__main__', 'college': 'NIT', 'num_of_students': 2, '__init__': <function Student.__init__ at 0x7fb2d64811f0>, 'fullname': <function Student.fullname at 0x7fb2d4380e50>, '__dict__': <attribute '__dict__' of 'Student' objects>, '__weakref__': <attribute '__weakref__' of 'Student' objects>, '__doc__': None}\n",
      "\n",
      "NIT IIT NIT\n",
      "{'fname': 'Arjun', 'lname': 'Uppal', 'sapid': '50006765', 'email': '50006765@stu.upes.ac.in', 'college': 'IIT'}\n",
      "\n",
      "2\n"
     ]
    }
   ],
   "source": [
    "# class variables vs instance variables\n",
    "\n",
    "class Student:\n",
    "    \n",
    "    college = 'UPES' # class variable\n",
    "    num_of_students = 0\n",
    "    \n",
    "    def __init__(self, fname, lname, sapid):\n",
    "        self.fname = fname\n",
    "        self.lname = lname\n",
    "        self.sapid = sapid\n",
    "        self.email = sapid + '@stu.upes.ac.in'\n",
    "        \n",
    "        Student.num_of_students += 1\n",
    "    \n",
    "    def fullname(self):\n",
    "        return f'{self.fname} {self.lname} {self.college}'\n",
    "    \n",
    "stud1 = Student('Arjun', 'Uppal', '50006765') \n",
    "stud2 = Student('Ram', 'Sharma', '500067827') \n",
    "\n",
    "print(Student.college, stud1.college, stud2.college) # two ways to access class variable\n",
    "print()\n",
    "\n",
    "print(stud1.__dict__) # returns a dict of all instance variables of a particular instance\n",
    "print(Student.__dict__)# returns a dict of all class variables + info related to class\n",
    "print()\n",
    "\n",
    "# changing value of class variable: changes for the entire class, i.e. all instances\n",
    "Student.college = 'NIT'\n",
    "print(Student.college, stud1.college, stud2.college)\n",
    "print(Student.__dict__)\n",
    "print()\n",
    "\n",
    "# changing value of class variable using an instance: changes for that specific instance\n",
    "stud1.college = 'IIT'\n",
    "print(Student.college, stud1.college, stud2.college)\n",
    "print(stud1.__dict__) # now college becomes instance variable for stud1 instance\n",
    "print()\n",
    "\n",
    "# another use of class variable where there is no sense of using self/instance\n",
    "print(Student.num_of_students)"
   ]
  },
  {
   "cell_type": "markdown",
   "metadata": {},
   "source": [
    "# <center>Types of methods: instance, static, class</center>\n",
    "    \n",
    "Static and class methods communicate and (to a certain degree) enforce developer intent about class design. This can have maintenance benefits.\n",
    "\n",
    "<img src=\"oops1.png\">\n",
    "\n",
    "# <center>Instance Methods</center>\n",
    "\n",
    "Instance attributes are those attributes that are not shared by objects. Every object has its own copy of the instance attribute.\n",
    "\n",
    "Instance methods need a class instance and can access the instance through self.\n",
    "\n",
    "For example, consider a class shapes that have many objects like circle, square, triangle, etc. having its own attributes and methods. An instance attribute refers to the properties of that particular object like edge of the triangle being 3, while the edge of the square can be 4.\n",
    "\n",
    "An instance method can access and even modify the value of attributes of an instance. It has one default parameter: self"
   ]
  },
  {
   "cell_type": "code",
   "execution_count": 23,
   "metadata": {},
   "outputs": [
    {
     "name": "stdout",
     "output_type": "stream",
     "text": [
      "No. of edges for circle: 0\n",
      "No. of edges for square: 6\n"
     ]
    }
   ],
   "source": [
    "class shape:\n",
    "      \n",
    "    # Calling Constructor\n",
    "    def __init__(self, edge, color):\n",
    "        self.edge = edge\n",
    "        self.color = color\n",
    "          \n",
    "    # Instance Method\n",
    "    def finEdges(self):\n",
    "        return self.edge\n",
    "          \n",
    "    # Instance Method\n",
    "    def modifyEdges(self, newedge):\n",
    "        self.edge = newedge\n",
    "          \n",
    "circle = shape(0, 'red')\n",
    "square = shape(4, 'blue')\n",
    "  \n",
    "# Calling Instance Method\n",
    "print(\"No. of edges for circle: \"+ str(circle.finEdges()))\n",
    "  \n",
    "# Calling Instance Method\n",
    "square.modifyEdges(6)  \n",
    "print(\"No. of edges for square: \"+ str(square.finEdges()))\n"
   ]
  },
  {
   "cell_type": "markdown",
   "metadata": {},
   "source": [
    "# <center>Class Methods</center>\n",
    "\n",
    "- Class methods don’t need a class instance. They can’t access the instance (self) but they have access to the class itself via cls.\n",
    "- @classmethod --> decorator is compulsory\n"
   ]
  },
  {
   "cell_type": "code",
   "execution_count": 24,
   "metadata": {},
   "outputs": [
    {
     "name": "stdout",
     "output_type": "stream",
     "text": [
      "1.04 1.04 1.04\n",
      "2.05 2.05 2.05\n",
      "3.06 3.06 3.06\n"
     ]
    }
   ],
   "source": [
    "class Employee:\n",
    "    \n",
    "    num_of_emps = 0\n",
    "    raise_amt = 1.04\n",
    "    \n",
    "    def __init__(self,first,last,pay):\n",
    "        self.first = first\n",
    "        self.last = last\n",
    "        self.pay = pay\n",
    "        self.email = first + \"@gmail.com\"\n",
    "        \n",
    "        Employee.num_of_emps += 1\n",
    "    \n",
    "    def fullname(self):\n",
    "        return f'{self.first} {self.last}'\n",
    "\n",
    "    def apply_raise(self):\n",
    "        self.pay = int(self.pay * self.raise_amt)\n",
    "       \n",
    "    # Decorators: Alter functionality of a method, receive class as first argument instead of instance  \n",
    "    @classmethod\n",
    "    def set_raise_amt(cls, amount):\n",
    "        cls.raise_amt = amount\n",
    "        \n",
    "emp1 = Employee('Arjun', 'Uppal', '50006765')\n",
    "emp2 = Employee('Ram', 'Sharma', '500067827') \n",
    "print(Employee.raise_amt, emp1.raise_amt, emp2.raise_amt)\n",
    "\n",
    "# same as Employee.raise_amt = 2.05, but we are using a class method\n",
    "Employee.set_raise_amt(2.05)\n",
    "print(Employee.raise_amt, emp1.raise_amt, emp2.raise_amt)\n",
    "\n",
    "# Run class method from instance: changes all instances\n",
    "emp1.set_raise_amt(3.06)\n",
    "print(Employee.raise_amt, emp1.raise_amt, emp2.raise_amt)"
   ]
  },
  {
   "cell_type": "code",
   "execution_count": 25,
   "metadata": {},
   "outputs": [
    {
     "name": "stdout",
     "output_type": "stream",
     "text": [
      "Arjun@gmail.com\n",
      "Ram@gmail.com\n",
      "Shyam@gmail.com\n"
     ]
    }
   ],
   "source": [
    "# Using class methods as alternative constructors\n",
    "# Consider if info of an employee is passed as a single string that needs to be split\n",
    "\n",
    "class Employee:\n",
    "    \n",
    "    num_of_emps = 0\n",
    "    raise_amt = 1.04\n",
    "    \n",
    "    def __init__(self,first,last,pay):\n",
    "        self.first = first\n",
    "        self.last = last\n",
    "        self.pay = pay\n",
    "        self.email = first + \"@gmail.com\"\n",
    "        \n",
    "        Employee.num_of_emps += 1\n",
    "    \n",
    "    def fullname(self):\n",
    "        return f'{self.first} {self.last}'\n",
    "\n",
    "    def apply_raise(self):\n",
    "        self.pay = int(self.pay * self.raise_amt)\n",
    "    \n",
    "    @classmethod\n",
    "    def set_raise_amt(cls, amount):\n",
    "        cls.raise_amt = amount\n",
    "        \n",
    "    @classmethod\n",
    "    def from_string(cls, e_string):\n",
    "        first, last, pay = e_string.split('-')\n",
    "        return cls(first, last, pay)   # same as Employee(first, last, pay), will create a new employee\n",
    "\n",
    "emp_str_1 = 'Arjun-Uppal-30000'\n",
    "first, last, pay = emp_str_1.split('-')\n",
    "new_emp1 = Employee(first, last, pay) \n",
    "print(new_emp1.email)\n",
    "\n",
    "# We don't want user to parse these stings everytime he wants to create a new employee.\n",
    "# So we create an alternate constructor as class method\n",
    "emp_str_2 = 'Ram-Goyal-5000'\n",
    "new_emp2 = Employee.from_string(emp_str_2)\n",
    "\n",
    "new_emp3 = Employee.from_string('Shyam-Saxena-80000')\n",
    "\n",
    "print(new_emp2.email)\n",
    "print(new_emp3.email)"
   ]
  },
  {
   "cell_type": "markdown",
   "metadata": {},
   "source": [
    "# <center>Static Methods</center>\n",
    "- instance method automatically pass instance as their first arguement as self\n",
    "- class method automatically pass class as their first arguement as cls\n",
    "- static method is just a regular function in class which does not use any instance or class itself\n",
    "\n",
    "Static methods are included in the classes because they have some logical connection to the class"
   ]
  },
  {
   "cell_type": "code",
   "execution_count": 26,
   "metadata": {},
   "outputs": [
    {
     "name": "stdout",
     "output_type": "stream",
     "text": [
      "Ram Tiwari\n",
      "47500.0\n",
      "2\n"
     ]
    }
   ],
   "source": [
    "# See if a date was a working day or not: has connection to Employee class but does not specifically depend \n",
    "# on any instance or class variable\n",
    "\n",
    "class Employee:\n",
    "    \n",
    "    covid_ded = 5\n",
    "    emp_count=0\n",
    "    \n",
    "    def __init__(self, fname, lname, salary):\n",
    "        self.fname= fname\n",
    "        self.lname= lname\n",
    "        self.email= fname[0]+ '.'+ lname+'@ddn.upes.ac.in'\n",
    "        self.salary= salary\n",
    "        Employee.emp_count+=1\n",
    "        \n",
    "    # instance method\n",
    "    def full_name(self):\n",
    "        return f'{self.fname} {self.lname}'\n",
    "     \n",
    "    # instance method\n",
    "    def apply_ded(self):\n",
    "        self.salary= self.salary - self.salary * (Employee.covid_ded/100)\n",
    "    \n",
    "    @classmethod\n",
    "    def set_covid_amount(cls, amount):\n",
    "        cls.covid_ded = amount\n",
    "    \n",
    "    @staticmethod\n",
    "    # Do not take instance/class as first argument, simple pass the reuired args\n",
    "    def is_workday(day):\n",
    "        if day.weekday()== 5 or day.weekday()== 6:\n",
    "            return True\n",
    "        else:\n",
    "            return False\n",
    "    \n",
    "    # represents the class objects as a string – it can be used for classes\n",
    "    # Use static methods where you do not need to use class or instance\n",
    "    def __str__(self):\n",
    "        return f'using __str__: {self.fname} {self.lname} {self.salary}'\n",
    "    \n",
    "e1=Employee('Ram', 'Tiwari', 50000)\n",
    "print(e1.full_name())\n",
    "\n",
    "e1.apply_ded()\n",
    "print(e1.salary)\n",
    "\n",
    "Employee.set_covid_amount(2)\n",
    "print(Employee.covid_ded)"
   ]
  },
  {
   "cell_type": "code",
   "execution_count": 27,
   "metadata": {},
   "outputs": [
    {
     "name": "stdout",
     "output_type": "stream",
     "text": [
      "True\n"
     ]
    }
   ],
   "source": [
    "# example - datetime.py   https://github.com/python/cpython/blob/master/Lib/datetime.py, line - 824\n",
    "# https://docs.python.org/3/library/datetime.html#datetime.date\n",
    "\n",
    "import datetime\n",
    "\n",
    "date = datetime.date(2020, 11, 7)\n",
    "print(Employee.is_workday(date))"
   ]
  },
  {
   "cell_type": "code",
   "execution_count": 28,
   "metadata": {},
   "outputs": [
    {
     "name": "stdout",
     "output_type": "stream",
     "text": [
      "using __str__: Shayam Sharma 60000\n"
     ]
    }
   ],
   "source": [
    "e2 = Employee('Shayam', 'Sharma', 60000)\n",
    "print(e2)"
   ]
  },
  {
   "cell_type": "markdown",
   "metadata": {},
   "source": [
    "### object.__str__(self)\n",
    "\n",
    "If we try to execute following code without __str__ method then statement will result in something like following in output window <__main__.Student object at 0x0191F850>  \n",
    "In order to have a meaningful string representation of Student object we can add this method and return a string. You may refer following link for more information\n",
    "\n",
    "### __str__ and __repr__ methods\n",
    "https://www.educative.io/edpresso/what-is-the-str-method-in-python  \n",
    "https://www.journaldev.com/22460/python-str-repr-functions"
   ]
  },
  {
   "cell_type": "code",
   "execution_count": 29,
   "metadata": {},
   "outputs": [
    {
     "name": "stdout",
     "output_type": "stream",
     "text": [
      "<__main__.Person object at 0x7fb2d4c77220>\n",
      "<__main__.Person object at 0x7fb2d4c77220>\n"
     ]
    }
   ],
   "source": [
    "class Person:\n",
    "\n",
    "    def __init__(self, personName, personAge):\n",
    "        self.name = personName\n",
    "        self.age = personAge\n",
    "        \n",
    "#     def __str__(self):\n",
    "#         return self.name + ' ' + str(self.age)\n",
    "\n",
    "p = Person('Pankaj', 34)\n",
    "print(p)\n",
    "print(p.__str__())"
   ]
  },
  {
   "cell_type": "markdown",
   "metadata": {},
   "source": [
    "### Some more examples:"
   ]
  },
  {
   "cell_type": "code",
   "execution_count": 30,
   "metadata": {},
   "outputs": [],
   "source": [
    "# Example 1:\n",
    "\n",
    "class Employee:\n",
    "    college_name= 'UPES'\n",
    "    \n",
    "    def __init__(self, college_name, eno, salary, address):\n",
    "        self.college_name= college_name\n",
    "        self.eno= eno\n",
    "        self.salary= salary\n",
    "        self.address= address\n",
    "            \n",
    "    def info(self):\n",
    "        print('*'*20)\n",
    "        print(f'emp name is {self.name}')\n",
    "        print(f'emp no is {self.eno}')\n",
    "        print(f'emp salary is {self.salary}')\n",
    "        print(f'emp address is {self.address}')\n",
    "        print('*'*20)\n",
    "        \n",
    "    def diwali_bonus(self, incentive):\n",
    "        updated_sal= self.salary + self.salary * (incentive/100)\n",
    "        print(updated_sal)\n",
    "    \n",
    "    @classmethod\n",
    "    def getCollegeName(cls):\n",
    "        print(cls.college_name)\n",
    "        \n",
    "    @staticmethod\n",
    "    def findAvg(x,y):\n",
    "        print(x+y/2)"
   ]
  },
  {
   "cell_type": "code",
   "execution_count": 31,
   "metadata": {},
   "outputs": [
    {
     "name": "stdout",
     "output_type": "stream",
     "text": [
      "DIT\n",
      "UPES\n"
     ]
    }
   ],
   "source": [
    "e1=Employee('DIT', 34, 50000, 'abc' )\n",
    "print(e1.college_name)\n",
    "print(Employee.college_name)"
   ]
  },
  {
   "cell_type": "code",
   "execution_count": 32,
   "metadata": {},
   "outputs": [
    {
     "name": "stdout",
     "output_type": "stream",
     "text": [
      "30\n",
      "DIT\n"
     ]
    }
   ],
   "source": [
    "e1.age = 30\n",
    "print(e1.age)\n",
    "Employee.college_name= 'DIT'\n",
    "print(Employee.college_name)"
   ]
  },
  {
   "cell_type": "code",
   "execution_count": 33,
   "metadata": {},
   "outputs": [
    {
     "name": "stdout",
     "output_type": "stream",
     "text": [
      "52500.0\n"
     ]
    }
   ],
   "source": [
    "e1.diwali_bonus(5)"
   ]
  },
  {
   "cell_type": "code",
   "execution_count": 34,
   "metadata": {},
   "outputs": [
    {
     "name": "stdout",
     "output_type": "stream",
     "text": [
      "DIT\n"
     ]
    }
   ],
   "source": [
    "Employee.getCollegeName()"
   ]
  },
  {
   "cell_type": "code",
   "execution_count": 35,
   "metadata": {},
   "outputs": [
    {
     "name": "stdout",
     "output_type": "stream",
     "text": [
      "5.0\n",
      "5.0\n"
     ]
    }
   ],
   "source": [
    "Employee.findAvg(3,4)\n",
    "e1.findAvg(3,4)"
   ]
  },
  {
   "cell_type": "code",
   "execution_count": 36,
   "metadata": {},
   "outputs": [
    {
     "data": {
      "text/plain": [
       "50.26548245743669"
      ]
     },
     "execution_count": 36,
     "metadata": {},
     "output_type": "execute_result"
    }
   ],
   "source": [
    "# Example 2:\n",
    "\n",
    "import math\n",
    "\n",
    "class Pizza:\n",
    "    def __init__(self, radius, ingredients):\n",
    "        self.radius = radius\n",
    "        self.ingredients = ingredients\n",
    "\n",
    "    def area(self):\n",
    "        return self.circle_area(self.radius)\n",
    "\n",
    "    # Instead of calculating the area directly within area(), using the well-known circle area formula, \n",
    "    # we have factored that out to a separate circle_area() static method.\n",
    "    @staticmethod\n",
    "    def circle_area(r):\n",
    "        return r ** 2 * math.pi\n",
    "    \n",
    "p = Pizza(4, ['mozzarella', 'tomatoes'])\n",
    "p.__dict__\n",
    "p.area()\n",
    "p.circle_area(4)"
   ]
  },
  {
   "cell_type": "code",
   "execution_count": 37,
   "metadata": {},
   "outputs": [
    {
     "name": "stdout",
     "output_type": "stream",
     "text": [
      "Shyam Singh has scored 70/80\n",
      "Shyam Singh has scored 70/90\n",
      "Shyam Singh has scored 70/100\n",
      "{'__module__': '__main__', 'subject': 'Python', 'max_marks': 100, 'num_of_students': 2, '__init__': <function Test.__init__ at 0x7fb2d43aa4c0>, 'result': <function Test.result at 0x7fb2d43aa940>, 'change_max_marks': <classmethod object at 0x7fb2d43b7910>, 'from_string': <classmethod object at 0x7fb2d43b7160>, 'print_test_date': <staticmethod object at 0x7fb2d43b76d0>, '__dict__': <attribute '__dict__' of 'Test' objects>, '__weakref__': <attribute '__weakref__' of 'Test' objects>, '__doc__': None}\n",
      "\n",
      "Arjun Singh has scored 65/100\n",
      "\n",
      "Date of test - 24/9/2020\n"
     ]
    }
   ],
   "source": [
    "# Example 3:\n",
    "\n",
    "# instance, class and static methods\n",
    "# instance method automatically pass instance as their first arguement as self\n",
    "# class method automatically pass class as their first arguement as cls\n",
    "# static method is just a regular func in class which does not use any instance or class itself\n",
    "\n",
    "class Test:\n",
    "    \n",
    "    subject = 'Python'\n",
    "    max_marks = 80 \n",
    "    num_of_students = 0\n",
    "    \n",
    "    def __init__(self, fname, lname, sapid, marks):\n",
    "        self.fname = fname\n",
    "        self.lname = lname\n",
    "        self.sapid = sapid\n",
    "        self.marks = marks\n",
    "        self.email = sapid + '@stu.upes.ac.in'\n",
    "        \n",
    "        Test.num_of_students += 1\n",
    "    \n",
    "    def result(self):\n",
    "        return f'{self.fname} {self.lname} has scored {self.marks}/{Test.max_marks}'\n",
    "    \n",
    "    @classmethod\n",
    "    def change_max_marks(cls, update):\n",
    "        cls.max_marks = update\n",
    "    \n",
    "    @classmethod\n",
    "    def from_string(cls, string):\n",
    "        fname, lname, sapid, marks = string.split()\n",
    "        return cls(fname, lname, sapid, marks)\n",
    "\n",
    "    @staticmethod\n",
    "    def print_test_date(date):\n",
    "        return 'Date of test - ' +  '/'.join(date.split())\n",
    "    \n",
    "stud1 = Test('Shyam', 'Singh', '5007365', 70) \n",
    "stud2 = Test('Sita', 'Sharma', '5000627', 75)\n",
    "\n",
    "# class variables can be updated if called by class\n",
    "# class object can change value of class variables using class methods\n",
    "print(stud1.result())\n",
    "\n",
    "stud1.change_max_marks(90)\n",
    "print(Test.result(stud1))\n",
    "\n",
    "Test.change_max_marks(100)\n",
    "print(stud1.result())\n",
    "\n",
    "print(Test.__dict__)\n",
    "print()\n",
    "\n",
    "# class method acting as a constructor to parse input before creating an object\n",
    "stud3 = Test.from_string('Arjun Singh 50006264 65')\n",
    "print(stud3.result())\n",
    "print()\n",
    "\n",
    "# static method\n",
    "print(Test.print_test_date('24 9 2020'))"
   ]
  },
  {
   "cell_type": "markdown",
   "metadata": {},
   "source": [
    "# <center>Some questions on OOPS concept</center>\n",
    "\n",
    "## Question 1\n",
    "### Create a class Employee and generate email of employee"
   ]
  },
  {
   "cell_type": "code",
   "execution_count": 38,
   "metadata": {},
   "outputs": [
    {
     "name": "stdout",
     "output_type": "stream",
     "text": [
      "Mohandas.Gandhi@company.com\n"
     ]
    }
   ],
   "source": [
    "class Employee:\n",
    "    \n",
    "    def __init__(self, fname, lname, salary):\n",
    "        self.fname = fname\n",
    "        self.lname = lname\n",
    "        self.salary = salary\n",
    "        self.email = fname + '.' + lname + '@company.com'\n",
    "    \n",
    "emp1 = Employee('Mohandas', 'Gandhi', 50000)\n",
    "print(emp1.email)"
   ]
  },
  {
   "cell_type": "markdown",
   "metadata": {},
   "source": [
    "### In the previous example add the following methods:\n",
    "###      - getEmail : should return the email id\n",
    "###     - getFullName : should return full name (ﬁrst name followed by last name)\n",
    "###     - getPay : should return the pay"
   ]
  },
  {
   "cell_type": "code",
   "execution_count": 39,
   "metadata": {},
   "outputs": [
    {
     "name": "stdout",
     "output_type": "stream",
     "text": [
      "Full Name: Mohandas Gandhi\n",
      "Salary: 50000\n",
      "Email ID: Mohandas.Gandhi@company.com\n"
     ]
    }
   ],
   "source": [
    "class Employee:\n",
    "    \n",
    "    def __init__(self, fname, lname, salary):\n",
    "        self.fname = fname\n",
    "        self.lname = lname\n",
    "        self.salary = salary\n",
    "        self.email = fname + '.' + lname + '@company.com'\n",
    "    \n",
    "    def getFullName(self):\n",
    "        return (self.fname + ' ' + self.lname)\n",
    "    \n",
    "    def getPay(self):\n",
    "        return (self.salary)\n",
    "    \n",
    "    def getEmail(self):\n",
    "        return (self.email)\n",
    "        \n",
    "emp_1 = Employee('Mohandas', 'Gandhi', 50000)\n",
    "\n",
    "print('Full Name: {}'.format(emp_1.getFullName()))\n",
    "print('Salary: {}'.format(emp_1.getPay()))\n",
    "print('Email ID: {}'.format(emp_1.getEmail()))"
   ]
  },
  {
   "cell_type": "markdown",
   "metadata": {},
   "source": [
    "## Question 2\n",
    "\n",
    "### List the risk associated with the implementation of Account class. Suggest a solution."
   ]
  },
  {
   "cell_type": "code",
   "execution_count": 40,
   "metadata": {},
   "outputs": [
    {
     "name": "stdout",
     "output_type": "stream",
     "text": [
      "-1000\n"
     ]
    }
   ],
   "source": [
    "class Account:\n",
    "    \n",
    "    def __init__(self, initial_amount):\n",
    "        self.balance = initial_amount\n",
    "    \n",
    "    def withdraw(self,amount):\n",
    "        self.balance = self.balance - amount\n",
    "    \n",
    "    def deposit(self,amount):\n",
    "        self.balance = self.balance + amount \n",
    "        \n",
    "ac = Account(1000)\n",
    "ac.balance = 2000 \n",
    "ac.balance = -1000 \n",
    "print(ac.balance)"
   ]
  },
  {
   "cell_type": "markdown",
   "metadata": {},
   "source": [
    "In this case, the balance can be changed randomly by the class user and can also be set to a non-permissable value (like -1000). \n",
    "\n",
    "To solve this, we can call methods intead of updating the balance."
   ]
  },
  {
   "cell_type": "code",
   "execution_count": 41,
   "metadata": {},
   "outputs": [
    {
     "name": "stdout",
     "output_type": "stream",
     "text": [
      "2000\n"
     ]
    }
   ],
   "source": [
    "class Account:\n",
    "    \n",
    "    def __init__(self, initial_amount):\n",
    "        self.balance = initial_amount\n",
    "    \n",
    "    def withdraw(self,amount):\n",
    "        self.balance = self.balance - amount\n",
    "    \n",
    "    def deposit(self,amount):\n",
    "        self.balance = self.balance + amount \n",
    "        \n",
    "ac = Account(1000)\n",
    "ac.deposit(2000) \n",
    "ac.withdraw(1000) \n",
    "print(ac.balance)\n",
    "\n",
    "# We can also make balance a private variable, but then it would just update the balance directly \n",
    "# and no use of methods is needed."
   ]
  },
  {
   "cell_type": "markdown",
   "metadata": {},
   "source": [
    "## Question 3\n",
    "\n",
    "\n",
    "### A dog trainer had two dogs: Fido and Buddy. Fido was trained a trick of “roll over” and Buddy was learned “play dead”. Is the code written correctly to represent this situation?\n",
    "\n",
    "- A. Yes \n",
    "      prove by printing print(d.tricks) and print(e.tricks)\n",
    "- B. No \n",
    "      if no, then rewrite the code"
   ]
  },
  {
   "cell_type": "code",
   "execution_count": 42,
   "metadata": {},
   "outputs": [
    {
     "name": "stdout",
     "output_type": "stream",
     "text": [
      "['roll over', 'play dead']\n",
      "['roll over', 'play dead']\n"
     ]
    }
   ],
   "source": [
    "class Dog:\n",
    "    tricks = []\n",
    "    \n",
    "    def __init__(self, name):\n",
    "        self.name = name\n",
    "    \n",
    "    def add_trick(self, trick):\n",
    "        self.tricks.append(trick)\n",
    "\n",
    "d = Dog('Fido')\n",
    "e = Dog('Buddy')\n",
    "d.add_trick('roll over')\n",
    "e.add_trick('play dead')\n",
    "print(d.tricks)\n",
    "print(e.tricks)"
   ]
  },
  {
   "cell_type": "code",
   "execution_count": 43,
   "metadata": {},
   "outputs": [
    {
     "name": "stdout",
     "output_type": "stream",
     "text": [
      "['roll over']\n",
      "['play dead']\n"
     ]
    }
   ],
   "source": [
    "# No, the code is not correct. It appends the trick name to the class variable since list is a mutable data \n",
    "# type.\n",
    "# We can make 'tricks' an instance variable because each dog will have its own tricks.\n",
    "\n",
    "class Dog:\n",
    "    \n",
    "    def __init__(self, name):\n",
    "        self.name = name\n",
    "        self.tricks = []\n",
    "    \n",
    "    def add_trick(self, trick):\n",
    "        self.tricks.append(trick)\n",
    "\n",
    "d = Dog('Fido')\n",
    "e = Dog('Buddy')\n",
    "d.add_trick('roll over')\n",
    "e.add_trick('play dead')\n",
    "print(d.tricks)\n",
    "print(e.tricks)"
   ]
  },
  {
   "cell_type": "markdown",
   "metadata": {},
   "source": [
    "## Question 4\n",
    "\n",
    "### Write logic for from_string method such that it becomes alternative constructor; meaning it should create an object of Employee at #stmt1 with ﬁrst name last name and pay values from emp_1_str string"
   ]
  },
  {
   "cell_type": "code",
   "execution_count": 44,
   "metadata": {},
   "outputs": [
    {
     "name": "stdout",
     "output_type": "stream",
     "text": [
      "John\n",
      "Abraham\n",
      "50000\n"
     ]
    }
   ],
   "source": [
    "class Employee: \n",
    "    \n",
    "    @classmethod\n",
    "    def from_string(cls,emp_str):\n",
    "        firstname,lastname,pay = emp_str.split('-')\n",
    "        return cls(firstname,lastname,pay)\n",
    "\n",
    "    def __init__(self,first,last,pay):\n",
    "        self.firstname = first\n",
    "        self.lastname = last\n",
    "        self.pay = pay\n",
    "\n",
    "emp_1_str = 'John-Abraham-50000'\n",
    "emp_1 = Employee.from_string(emp_1_str)        # stmt1\n",
    "print(emp_1.firstname)\n",
    "print(emp_1.lastname)\n",
    "print(emp_1.pay)"
   ]
  },
  {
   "cell_type": "markdown",
   "metadata": {},
   "source": [
    "# Question 5\n",
    "\n",
    "<b>Requirement:</b> Both the counters (counter1 & counter2) in following code, access the same __item_count from Store. User can get the number of items in store by calling getItemCount method.\n",
    "\n",
    "counter1 = Store()  \n",
    "counter2 = Store()  \n",
    "#add 2 items to store from counter1  \n",
    "#issue 1 item at counter1  \n",
    "#getItemCount in the Store\n",
    "\n",
    "### Provide body for the 3 methods. Logic is as follows:\n",
    "- addItem (count): __item_count += count\n",
    "- issueItem (count): __item_count -= count\n",
    "- getItemCount(): returns __item_count \n",
    "\n",
    "### Justify method type (instance or static or class) for each method. Test your logic for above requirement."
   ]
  },
  {
   "cell_type": "code",
   "execution_count": 45,
   "metadata": {},
   "outputs": [
    {
     "name": "stdout",
     "output_type": "stream",
     "text": [
      "111\n"
     ]
    }
   ],
   "source": [
    "# We cannot access private variable directly. Hence classmethod is used to change the no. of items using an object or through class.\n",
    "\n",
    "class Store:\n",
    "    __item_count = 100\n",
    "    \n",
    "    #adds to count to __item_count\n",
    "    @classmethod\n",
    "    def addItem(cls,count):\n",
    "        cls.__item_count += count\n",
    "    \n",
    "    #subtracts count from __item_count\n",
    "    @classmethod\n",
    "    def issueItem(cls,count):\n",
    "        cls.__item_count -= count\n",
    "    \n",
    "    #returns __item_count \n",
    "    @staticmethod\n",
    "    def getItemCount():\n",
    "        return (Store.__item_count)\n",
    "\n",
    "Store.addItem(10)\n",
    "counter1 = Store()\n",
    "counter2 = Store()\n",
    "counter1.addItem(2)\n",
    "counter1.issueItem(1)\n",
    "print(Store.getItemCount())"
   ]
  },
  {
   "cell_type": "markdown",
   "metadata": {},
   "source": [
    "Objects are Python’s abstraction for data. All data in a Python program is represented by objects or \n",
    "by relations between objects. \n",
    "Every object has an identity, a type and a value. An object’s identity never changes once it has been\n",
    "created; you may think of it as the object’s address in memory. The ‘is’ operator compares the \n",
    "identity of two objects; the id() function returns an integer representing its identity. "
   ]
  },
  {
   "cell_type": "code",
   "execution_count": 46,
   "metadata": {},
   "outputs": [
    {
     "name": "stdout",
     "output_type": "stream",
     "text": [
      "True\n",
      "True\n",
      "True\n"
     ]
    }
   ],
   "source": [
    "# This code shows you that everything in Python is indeed an object. \n",
    "# Each object contains at least three pieces of data:\n",
    "\n",
    "# Reference count: The reference count is for memory management\n",
    "# Type: The type is used at the CPython layer to ensure type safety during runtime. \n",
    "# Value: Finally, there’s the value, which is the actual value associated with the object.\n",
    "\n",
    "print(isinstance(2, object))\n",
    "print(isinstance(list(), object))\n",
    "print(isinstance(True, object))"
   ]
  },
  {
   "cell_type": "markdown",
   "metadata": {},
   "source": [
    "1. Python does not have variables. It has names. Yes, this is a pedantic point, and you can certainly use the term variables as much as you like. It is important to know that there is a difference between variables and names.\n",
    "\n",
    "    Note: The PyObject is not the same as Python’s object. It’s specific to CPython and represents the base structure for all Python objects.\n",
    "\n",
    "\n",
    "2. PyObject is defined as a C struct, so if you’re wondering why you can’t call typecode or refcount directly, its because you don’t have access to the structures directly. Method calls like sys.getrefcount() can help get some internals.\n",
    "\n",
    "    Now you can see that a new Python object has not been created, just a new name that points to the same object. Also, the object’s refcount has increased by one. You could check for object identity equality to confirm that they are the same:\n",
    "\n",
    "\n",
    "3. Objects are never explicitly destroyed; however, when they become unreachable they may be garbage-collected. An implementation is allowed to postpone garbage collection or omit it altogether \n",
    "\n",
    "Implementation note: the current implementation uses a reference-counting scheme which collects most objects as soon as they become unreachable, but never collects garbage containing circular references"
   ]
  },
  {
   "cell_type": "code",
   "execution_count": 47,
   "metadata": {},
   "outputs": [
    {
     "data": {
      "text/plain": [
       "True"
      ]
     },
     "execution_count": 47,
     "metadata": {},
     "output_type": "execute_result"
    }
   ],
   "source": [
    "x = 2337\n",
    "x = 2338\n",
    "y = x\n",
    "y is x"
   ]
  },
  {
   "attachments": {
    "image.png": {
     "image/png": "[encoded data removed]"
    }
   },
   "cell_type": "markdown",
   "metadata": {},
   "source": [
    "![image.png](attachment:image.png)"
   ]
  },
  {
   "cell_type": "code",
   "execution_count": 48,
   "metadata": {},
   "outputs": [
    {
     "data": {
      "text/plain": [
       "11428384"
      ]
     },
     "execution_count": 48,
     "metadata": {},
     "output_type": "execute_result"
    }
   ],
   "source": [
    "# for every class, pvm creates one class class object to hold class level info \n",
    "# refer static data using cls varibale\n",
    "\n",
    "x = 5\n",
    "id(x)"
   ]
  },
  {
   "cell_type": "code",
   "execution_count": null,
   "metadata": {},
   "outputs": [],
   "source": []
  }
 ],
 "metadata": {
  "kernelspec": {
   "display_name": "Python 3",
   "language": "python",
   "name": "python3"
  },
  "language_info": {
   "codemirror_mode": {
    "name": "ipython",
    "version": 3
   },
   "file_extension": ".py",
   "mimetype": "text/x-python",
   "name": "python",
   "nbconvert_exporter": "python",
   "pygments_lexer": "ipython3",
   "version": "3.8.6"
  }
 },
 "nbformat": 4,
 "nbformat_minor": 2
}
